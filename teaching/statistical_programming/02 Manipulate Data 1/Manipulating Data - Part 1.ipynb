{
 "cells": [
  {
   "cell_type": "markdown",
   "id": "a235fbec-55e0-43db-ba6e-ded3b78d51b5",
   "metadata": {},
   "source": [
    "# Manipulating Data - Part 1"
   ]
  },
  {
   "cell_type": "markdown",
   "id": "fbdf401b-4a63-4431-809e-ae14b9c4a360",
   "metadata": {},
   "source": [
    "## Creating Variables"
   ]
  },
  {
   "cell_type": "markdown",
   "id": "8b56a512-7a42-4868-b4ba-957143412193",
   "metadata": {},
   "source": [
    "We have done this in an earlier example. Let's use a new data and be more thorough here. \n",
    "\n",
    "The following raw data give information about hotels in Kyoto, Japan. The hotel name is followed by the nightly rate for two people in yen and the distance from Kyoto Station in kilometers."
   ]
  },
  {
   "cell_type": "code",
   "execution_count": null,
   "id": "e439858f-bcdb-4864-bd05-2ff27570f61b",
   "metadata": {},
   "outputs": [],
   "source": [
    "DATA kyotohotels;\n",
    "INFILE datalines;\n",
    "INPUT Hotel $ 1-25 Yen Kilometers;\n",
    "datalines;\n",
    "The Grand West Arashiyama 32200 9.5\n",
    "Kyoto Sharagam            48000 3.3\n",
    "The Palace Side Hotel     10200 3.8\n",
    "Rinn Fushimiinari         41000 2.9\n",
    "Rinn Nijo Castle          18000 3.3\n",
    "Suiran Kyoto              102000 11.0\n",
    ";\n",
    "RUN;"
   ]
  },
  {
   "cell_type": "markdown",
   "id": "0cfdd5b9-7ff2-4623-b028-8cf74fecff87",
   "metadata": {},
   "source": [
    "As I read the data, I want to create a column called USD where I convert Yen to USD. "
   ]
  },
  {
   "cell_type": "code",
   "execution_count": null,
   "id": "d8664ff3-fa9a-4ab8-b72b-07f3b0e3835a",
   "metadata": {},
   "outputs": [],
   "source": [
    "DATA kyotohotels;\n",
    "INFILE datalines;\n",
    "INPUT Hotel $ 1-25 Yen Kilometers;\n",
    "USD = Yen * 0.0089;\n",
    "datalines;\n",
    "The Grand West Arashiyama 32200 9.5\n",
    "Kyoto Sharagam            48000 3.3\n",
    "The Palace Side Hotel     10200 3.8\n",
    "Rinn Fushimiinari         41000 2.9\n",
    "Rinn Nijo Castle          18000 3.3\n",
    "Suiran Kyoto              102000 11.0\n",
    ";\n",
    "RUN;"
   ]
  },
  {
   "cell_type": "markdown",
   "id": "94f1c9fe-4120-41c7-b76d-c1504f6fe70a",
   "metadata": {},
   "source": [
    "Note that the statement is added before the datalines. \n",
    "\n",
    "SAS Programming Good rule 1: use as few data steps as possible (in most cases only one step is needed!)\n",
    "\n",
    "The reason is just when you use a data step, a new data will be created. This takes a lot of resources, making the program slow or sometimes your computer out of resources. \n",
    "\n",
    "Let's create another variable, miles. "
   ]
  },
  {
   "cell_type": "code",
   "execution_count": null,
   "id": "7695cc8e-e734-44b6-bdde-009d2c37e4b0",
   "metadata": {},
   "outputs": [],
   "source": [
    "DATA kyotohotels;\n",
    "INFILE datalines;\n",
    "INPUT Hotel $ 1-25 Yen Kilometers;\n",
    "USD = Yen * 0.0089;\n",
    "Miles = Kilometers * 0.62;\n",
    "datalines;\n",
    "The Grand West Arashiyama 32200 9.5\n",
    "Kyoto Sharagam            48000 3.3\n",
    "The Palace Side Hotel     10200 3.8\n",
    "Rinn Fushimiinari         41000 2.9\n",
    "Rinn Nijo Castle          18000 3.3\n",
    "Suiran Kyoto              102000 11.0\n",
    ";\n",
    "RUN;"
   ]
  },
  {
   "cell_type": "markdown",
   "id": "89ac0744-7217-48fb-96c3-b0d311135b70",
   "metadata": {},
   "source": [
    "SAS will override the values of existing variables or datasets if you reuse the name, ***without giving an error***.\n",
    "* SAS won't change a numeric to a string and vice versa. It won't tell you either. "
   ]
  },
  {
   "cell_type": "code",
   "execution_count": null,
   "id": "c88b398f-364b-410a-942a-d106696ebbf4",
   "metadata": {},
   "outputs": [],
   "source": [
    "DATA kyotohotels;\n",
    "INFILE datalines;\n",
    "INPUT Hotel $ 1-25 Yen Kilometers;\n",
    "USD = Yen * 0.0089;\n",
    "Miles = Kilometers * 0.62;\n",
    "datalines;\n",
    "The Grand West Arashiyama 32200 9.5\n",
    "Kyoto Sharagam            48000 3.3\n",
    "The Palace Side Hotel     10200 3.8\n",
    "Rinn Fushimiinari         41000 2.9\n",
    "Rinn Nijo Castle          18000 3.3\n",
    "Suiran Kyoto              102000 11.0\n",
    ";\n",
    "RUN;\n",
    "\n",
    "DATA kyotohotels; /* The data named kyotohotels will be replaced by the new one */\n",
    "    SET kyotohotels;\n",
    "    Miles = Kilometers * 0;  /* The column named Miles will be replaced by the new values */\n",
    "RUN;"
   ]
  },
  {
   "cell_type": "markdown",
   "id": "1b97185e-3220-4828-b346-735a6b9f149b",
   "metadata": {},
   "source": [
    "## Renaming and Labeling"
   ]
  },
  {
   "cell_type": "markdown",
   "id": "39b11e10-f3fa-46b4-99a8-bb463e17259a",
   "metadata": {},
   "source": [
    "You can rename variables using RENAME statement. For example, we believe we may get confused about USD, and we want to make it a more explicit name, US_Dollar."
   ]
  },
  {
   "cell_type": "code",
   "execution_count": null,
   "id": "e52d34b7-7215-4cd2-b062-2be848907cd5",
   "metadata": {},
   "outputs": [],
   "source": [
    "DATA kyotohotels;\n",
    "INFILE datalines;\n",
    "INPUT Hotel $ 1-25 Yen Kilometers;\n",
    "USD = Yen * 0.0089;\n",
    "Miles = Kilometers * 0.62;\n",
    "datalines;\n",
    "The Grand West Arashiyama 32200 9.5\n",
    "Kyoto Sharagam            48000 3.3\n",
    "The Palace Side Hotel     10200 3.8\n",
    "Rinn Fushimiinari         41000 2.9\n",
    "Rinn Nijo Castle          18000 3.3\n",
    "Suiran Kyoto              102000 11.0\n",
    ";\n",
    "RUN;\n",
    "\n",
    "DATA kyotohotels; \n",
    "    SET kyotohotels;\n",
    "    RENAME USD = US_Dollar; \n",
    "RUN;"
   ]
  },
  {
   "cell_type": "markdown",
   "id": "9fa3a251-2391-46b7-8d8e-3917400b169f",
   "metadata": {},
   "source": [
    "You can label variables using LABEL statement, up to 256 characters long, for each variable. For example, we believe we may get confused about USD, and we want to give it a label, \"US$\". You still refer to the variable using its name, but the lable will appear in reporting by default. Consider the label as something you want to present or to be more informative.. "
   ]
  },
  {
   "cell_type": "code",
   "execution_count": null,
   "id": "420752fb-b67a-4a99-a28b-007bf2e8104f",
   "metadata": {},
   "outputs": [],
   "source": [
    "DATA kyotohotels;\n",
    "INFILE datalines;\n",
    "INPUT Hotel $ 1-25 Yen Kilometers;\n",
    "USD = Yen * 0.0089;\n",
    "Miles = Kilometers * 0.62;\n",
    "datalines;\n",
    "The Grand West Arashiyama 32200 9.5\n",
    "Kyoto Sharagam            48000 3.3\n",
    "The Palace Side Hotel     10200 3.8\n",
    "Rinn Fushimiinari         41000 2.9\n",
    "Rinn Nijo Castle          18000 3.3\n",
    "Suiran Kyoto              102000 11.0\n",
    ";\n",
    "RUN;\n",
    "\n",
    "DATA kyotohotels;\n",
    "    SET kyotohotels;\n",
    "    LABEL USD = \"US$\" /* Note that US$ is in quotes. */\n",
    "            Hotel = \"Name of Hotel\" /* You can lable multiple variables like this. */\n",
    "            Miles = \"Distance to Kyoto Station in Miles\"; \n",
    "RUN;"
   ]
  },
  {
   "cell_type": "markdown",
   "id": "c75e3383-64ee-4775-951e-a46d37edb412",
   "metadata": {},
   "source": [
    "## Subsetting Data"
   ]
  },
  {
   "cell_type": "markdown",
   "id": "82d398d1-784e-45b0-80fd-67988ca7d002",
   "metadata": {},
   "source": [
    "### Subsetting Rows"
   ]
  },
  {
   "cell_type": "markdown",
   "id": "5cdb7e31-937c-4f72-b970-8112e0158980",
   "metadata": {},
   "source": [
    "### Subsetting Rows using Conditions"
   ]
  },
  {
   "attachments": {},
   "cell_type": "markdown",
   "id": "38078655-a0a3-47f1-a2b7-9494febd2c97",
   "metadata": {},
   "source": [
    "In SAS, you can subset data using conditions. For example, we want to get a subset of the kyotohotels so that the subset only contains hotels within 2.5 miles from Kyoto Station. You can do this in 2 steps. "
   ]
  },
  {
   "cell_type": "code",
   "execution_count": null,
   "id": "fea31609-9c64-41b6-92ea-aba774c9de72",
   "metadata": {},
   "outputs": [],
   "source": [
    "/* First read the data */\n",
    "DATA kyotohotels;\n",
    "INFILE datalines;\n",
    "INPUT Hotel $ 1-25 Yen Kilometers;\n",
    "USD = Yen * 0.0089;\n",
    "Miles = Kilometers * 0.62;\n",
    "datalines;\n",
    "The Grand West Arashiyama 32200 9.5\n",
    "Kyoto Sharagam            48000 3.3\n",
    "The Palace Side Hotel     10200 3.8\n",
    "Rinn Fushimiinari         41000 2.9\n",
    "Rinn Nijo Castle          18000 3.3\n",
    "Suiran Kyoto              102000 11.0\n",
    ";\n",
    "RUN;\n",
    "\n",
    "/* Second subset the data using if statement */\n",
    "DATA kyotohotels_subset;\n",
    "SET kyotohotels;\n",
    "if Miles <= 2.5;\n",
    "RUN;\n",
    "\n",
    "/* Or you can combine them. */\n",
    "DATA kyotohotels;\n",
    "INFILE datalines;\n",
    "INPUT Hotel $ 1-25 Yen Kilometers;\n",
    "USD = Yen * 0.0089;\n",
    "Miles = Kilometers * 0.62;\n",
    "IF Miles <= 2.5;\n",
    "datalines;\n",
    "The Grand West Arashiyama 32200 9.5\n",
    "Kyoto Sharagam            48000 3.3\n",
    "The Palace Side Hotel     10200 3.8\n",
    "Rinn Fushimiinari         41000 2.9\n",
    "Rinn Nijo Castle          18000 3.3\n",
    "Suiran Kyoto              102000 11.0\n",
    ";\n",
    "RUN;"
   ]
  },
  {
   "cell_type": "markdown",
   "id": "c4347851-e4c6-448f-bd1e-5f151b3fb4f3",
   "metadata": {},
   "source": [
    "Note that the IF statement comes after the definition of Miles. Try and see what happens if you put it before. Why the difference? "
   ]
  },
  {
   "cell_type": "markdown",
   "id": "c81e063a-0fa9-41ac-9db2-6e059be39fad",
   "metadata": {},
   "source": [
    "Alternatively, you can use something called the where statement. "
   ]
  },
  {
   "cell_type": "code",
   "execution_count": null,
   "id": "e392d46f-f63b-4c3e-a787-4cb51c32ff19",
   "metadata": {},
   "outputs": [],
   "source": [
    "/* First read the data */\n",
    "DATA kyotohotels;\n",
    "INFILE datalines;\n",
    "INPUT Hotel $ 1-25 Yen Kilometers;\n",
    "USD = Yen * 0.0089;\n",
    "Miles = Kilometers * 0.62;\n",
    "datalines;\n",
    "The Grand West Arashiyama 32200 9.5\n",
    "Kyoto Sharagam            48000 3.3\n",
    "The Palace Side Hotel     10200 3.8\n",
    "Rinn Fushimiinari         41000 2.9\n",
    "Rinn Nijo Castle          18000 3.3\n",
    "Suiran Kyoto              102000 11.0\n",
    ";\n",
    "RUN;\n",
    "\n",
    "/* Second subset the data using where statement */\n",
    "DATA kyotohotels_subset;\n",
    "SET kyotohotels;\n",
    "where Miles <= 2.5;\n",
    "RUN;"
   ]
  },
  {
   "attachments": {},
   "cell_type": "markdown",
   "id": "c1f9265a-51ca-472c-9268-ddd2dc2f3bf3",
   "metadata": {},
   "source": [
    "* What's the difference between IF and WHERE? \n",
    "    * It's how it is executed.\n",
    "        * IF statements are excuted row by row. SAS will go to the first row, check the if condition, make a decision and then go to the next row.\n",
    "            * To do this, SAS has to read all the data from the SET first and then check the if conditions.\n",
    "        * WHERE does not do this. It just tells SAS to read the observations that satisfies the condition in the SET statement. Hence, where is faster.\n",
    "    * It's also where they can be used.\n",
    "        * The WHERE statement can be used in procedures to subset data while IF statement cannot be used in procedures.\n",
    "        * WHERE can be used as a **data set option** while IF cannot be used as a data set option.\n",
    "        * IF Statement can be used when specifying an INPUT statement, but WHERE cannot be used.\n",
    "        * IF can also be used under some specific condistions and more complex conditions. More later. "
   ]
  },
  {
   "cell_type": "code",
   "execution_count": null,
   "id": "46777615-46bf-40a1-b76a-8ff2a249b0bb",
   "metadata": {},
   "outputs": [],
   "source": [
    "/* Example of a data set option */\n",
    "DATA kyotohotels_subset;\n",
    "SET kyotohotels (where = (Miles <= 2.5));\n",
    "RUN;"
   ]
  },
  {
   "cell_type": "markdown",
   "id": "43065d1d-2581-4097-b103-4d3b9ceee043",
   "metadata": {},
   "source": [
    "#### Subsetting Rows using SAS Automatic Variables"
   ]
  },
  {
   "cell_type": "markdown",
   "id": "d2a52eae-f25a-4126-a583-5c91e472604e",
   "metadata": {},
   "source": [
    "* SAS has built in variables for each data set and when it is executing codes. We call them SAS Automatic variables\n",
    "    * ***\\_N\\_*** indicates the number of times SAS has looped through the DATA step.\n",
    "    * ***\\_ERROR\\_*** has a value of 1 if there is a data error for that observation and 0 if there isn't.\n",
    "        * Things that can cause data errors include invalid data (such as characters in a numeric field), conversion errors (like division by zero), and illegal arguments in functions (including log of zero).\n",
    "    * ***FIRST.variable*** and ***LAST.variable*** are available when you are using a BY statement in a DATA step.\n",
    "        * The FIRST.variable will have a value of 1 when SAS is processing an observation with the first occurrence of a new value for that variable and a value of 0 for the other observations.\n",
    "        * The LAST.variable will have a value of 1 for an observation with the last occurrence of a value for that variable and the value 0 for the other observations."
   ]
  },
  {
   "cell_type": "markdown",
   "id": "b6524fda-b0f5-4567-a8d2-bce74c78c7d9",
   "metadata": {},
   "source": [
    "* For example, if we want to select the first observation of our data. What can we do?\n",
    "    * You can actually do it more than one ways. "
   ]
  },
  {
   "cell_type": "code",
   "execution_count": null,
   "id": "ba1bf28b-d585-4030-b29b-323ce3a938d4",
   "metadata": {},
   "outputs": [],
   "source": [
    "DATA kyotohotels_subset;\n",
    "SET kyotohotels (obs = 1); /* <-- Using data set options */\n",
    "RUN;\n",
    "\n",
    "DATA kyotohotels_subset;\n",
    "SET kyotohotels; \n",
    "if _N_ = 1; /* <-- Using automatic variable */\n",
    "RUN;"
   ]
  },
  {
   "cell_type": "markdown",
   "id": "3ce0e816-c7f2-4602-97f8-1dbeaf5afa13",
   "metadata": {},
   "source": [
    "* Look at this data. What if we want to select the first observations in each group (town)? "
   ]
  },
  {
   "cell_type": "code",
   "execution_count": null,
   "id": "08004863-5e49-4aef-b604-aa9535a177f7",
   "metadata": {},
   "outputs": [],
   "source": [
    "DATA Town;\n",
    "INFILE datalines;\n",
    "INPUT Town $ 1-11 Rooms Price;\n",
    "datalines;\n",
    "Princeton  5 5.2\n",
    "Princeton  2 0.7 \n",
    "Princeton  1 0.55 \n",
    "Hopewell   3 0.4 \n",
    "Hopewell   4 0.9 \n",
    "Hopewell   5 1.1 \n",
    "Burlington 6 0.7\n",
    "Burlington 7 0.8\n",
    "Burlington 8 0.9\n",
    ";\n",
    "RUN;"
   ]
  },
  {
   "cell_type": "code",
   "execution_count": null,
   "id": "8f905256-4391-4dd3-9185-5735930e148d",
   "metadata": {},
   "outputs": [],
   "source": [
    "DATA Town_subset;\n",
    "SET Town; \n",
    "by town; /* <-- FIRST.Var or LAST.Var only works when a BY is used. */\n",
    "if first.town; /* Selecting the first obs in each group. */ /* we cannot use WHERE here.  */\n",
    "RUN;"
   ]
  },
  {
   "cell_type": "markdown",
   "id": "ebad16da-f53c-4433-8e07-9ec9c5c5acef",
   "metadata": {},
   "source": [
    "### Subsetting Columns"
   ]
  },
  {
   "cell_type": "markdown",
   "id": "6544ec60-4634-463f-ab88-e621a2aecbf8",
   "metadata": {},
   "source": [
    "Subsetting of columns is straightforward. You can use the KEEP or DROP statements or KEEP or DROP **data set options**.\n",
    "\n",
    "Let's keep the American columns (USD and Miles) and drop the international columns (KM and Yen). "
   ]
  },
  {
   "cell_type": "code",
   "execution_count": null,
   "id": "56364869-f65f-4997-85be-43f6e2a2bceb",
   "metadata": {},
   "outputs": [],
   "source": [
    "/* First read the data */\n",
    "DATA kyotohotels;\n",
    "INFILE datalines;\n",
    "INPUT Hotel $ 1-25 Yen Kilometers;\n",
    "USD = Yen * 0.0089;\n",
    "Miles = Kilometers * 0.62;\n",
    "IF Miles <= 2.5;\n",
    "datalines;\n",
    "The Grand West Arashiyama 32200 9.5\n",
    "Kyoto Sharagam            48000 3.3\n",
    "The Palace Side Hotel     10200 3.8\n",
    "Rinn Fushimiinari         41000 2.9\n",
    "Rinn Nijo Castle          18000 3.3\n",
    "Suiran Kyoto              102000 11.0\n",
    ";\n",
    "RUN;\n",
    "\n",
    "/* Third subset the columns */\n",
    "DATA kyotohotels_subset;\n",
    "SET kyotohotels;\n",
    "KEEP Hotel Miles USD;\n",
    "RUN;\n",
    "\n",
    "/* Alternatively, use the drop statement */\n",
    "DATA kyotohotels_subset;\n",
    "SET kyotohotels;\n",
    "DROP Yen Kilometers;\n",
    "RUN;"
   ]
  },
  {
   "cell_type": "markdown",
   "id": "1ccc0101-edc8-4096-b397-762785db0c56",
   "metadata": {},
   "source": [
    "The syntax for KEEP or DROP **data set options** is like this: "
   ]
  },
  {
   "cell_type": "code",
   "execution_count": null,
   "id": "65d08753-a349-4b1a-983a-7b3d0d5faaf5",
   "metadata": {},
   "outputs": [],
   "source": [
    "DATA kyotohotels_subset;\n",
    "SET kyotohotels (keep = Hotel Miles USD);\n",
    "RUN;\n",
    "\n",
    "DATA kyotohotels_subset;\n",
    "SET kyotohotels (drop = Yen Kilometers);\n",
    "RUN;"
   ]
  },
  {
   "cell_type": "markdown",
   "id": "98fbf4e9-4f93-41f2-a4f7-7c0b599cdc02",
   "metadata": {},
   "source": [
    "You can also do the following to yield the same result. "
   ]
  },
  {
   "cell_type": "code",
   "execution_count": null,
   "id": "4ed811ba-0a44-4b9b-82fb-d979d869183f",
   "metadata": {},
   "outputs": [],
   "source": [
    "DATA kyotohotels_subset (keep = Hotel Miles USD);\n",
    "SET kyotohotels;\n",
    "RUN;\n",
    "\n",
    "DATA kyotohotels_subset (drop = Yen Kilometers);\n",
    "SET kyotohotels;\n",
    "RUN;"
   ]
  },
  {
   "attachments": {},
   "cell_type": "markdown",
   "id": "a9d2a0c8-0b57-45b1-8902-ac7d1335efa1",
   "metadata": {},
   "source": [
    "Whence the difference? \n",
    "* Remember that the data set options are applied to the dataset it is trailing to.\n",
    "\n",
    "Try the following two code blocks. What do they do? Why the difference? "
   ]
  },
  {
   "cell_type": "code",
   "execution_count": null,
   "id": "0a949051-c5b3-4ad8-9ff4-8f70db5fcf36",
   "metadata": {},
   "outputs": [],
   "source": [
    "DATA kyotohotels;\n",
    "INFILE datalines;\n",
    "INPUT Hotel $ 1-25 Yen Kilometers;\n",
    "datalines;\n",
    "The Grand West Arashiyama 32200 9.5\n",
    "Kyoto Sharagam            48000 3.3\n",
    "The Palace Side Hotel     10200 3.8\n",
    "Rinn Fushimiinari         41000 2.9\n",
    "Rinn Nijo Castle          18000 3.3\n",
    "Suiran Kyoto              102000 11.0\n",
    ";\n",
    "RUN;\n",
    "\n",
    "DATA kyotohotels_subset (keep = Hotel Miles USD);\n",
    "SET kyotohotels;\n",
    "USD = Yen * 0.0089;\n",
    "Miles = Kilometers * 0.62;\n",
    "RUN;"
   ]
  },
  {
   "cell_type": "code",
   "execution_count": null,
   "id": "a5f59488-25cd-4527-90bf-6eb95fc016fe",
   "metadata": {},
   "outputs": [],
   "source": [
    "DATA kyotohotels;\n",
    "INFILE datalines;\n",
    "INPUT Hotel $ 1-25 Yen Kilometers;\n",
    "datalines;\n",
    "The Grand West Arashiyama 32200 9.5\n",
    "Kyoto Sharagam            48000 3.3\n",
    "The Palace Side Hotel     10200 3.8\n",
    "Rinn Fushimiinari         41000 2.9\n",
    "Rinn Nijo Castle          18000 3.3\n",
    "Suiran Kyoto              102000 11.0\n",
    ";\n",
    "RUN;\n",
    "\n",
    "DATA kyotohotels_subset;\n",
    "SET kyotohotels (keep = Hotel Miles USD);\n",
    "USD = Yen * 0.0089;\n",
    "Miles = Kilometers * 0.62;\n",
    "RUN;"
   ]
  },
  {
   "cell_type": "markdown",
   "id": "4eed613b-3456-46e9-a5fb-5180d75eb5f7",
   "metadata": {},
   "source": [
    "## IF ... THEN ... ELSE ..."
   ]
  },
  {
   "cell_type": "markdown",
   "id": "e4bc47c0-e1cb-4815-91c2-24a3076d86c5",
   "metadata": {},
   "source": [
    "We used the IF statement when subsetting data. We can also create variables based on some conditions using IF THEN ELSE. For example, let's create a variable that tells us whether a hotel is close or far from the Kyoto station. Note that you are still creating a variable, but the statement to create the variable is under a certain condition. "
   ]
  },
  {
   "cell_type": "code",
   "execution_count": null,
   "id": "821db7de-70b5-44a7-8d74-b84ada4ae981",
   "metadata": {},
   "outputs": [],
   "source": [
    "DATA kyotohotels;\n",
    "INFILE datalines;\n",
    "INPUT Hotel $ 1-25 Yen Kilometers;\n",
    "USD = Yen * 0.0089;\n",
    "Miles = Kilometers * 0.62;\n",
    "datalines;\n",
    "The Grand West Arashiyama 32200 9.5\n",
    "Kyoto Sharagam            48000 3.3\n",
    "The Palace Side Hotel     10200 3.8\n",
    "Rinn Fushimiinari         41000 2.9\n",
    "Rinn Nijo Castle          18000 3.3\n",
    "Suiran Kyoto              102000 11.0\n",
    ";\n",
    "RUN;\n",
    "\n",
    "DATA kyotohotels;\n",
    "    SET kyotohotels;\n",
    "    IF miles <= 2.5 then Close_or_Far = \"Close\";\n",
    "    IF miles > 2.5 then Close_or_Far = \"Far\";\n",
    "RUN;"
   ]
  },
  {
   "cell_type": "markdown",
   "id": "7c5cd24f-43f8-4b86-8095-aaec6130ba64",
   "metadata": {},
   "source": [
    "Your turn. Try to create a variable called Cheap_or_Pricy. If the cost is not higher than \\$200 then it is cheap. Otherwise it is pricy. "
   ]
  },
  {
   "cell_type": "code",
   "execution_count": null,
   "id": "d546f4c5-729d-4a53-bf74-6cd490e4ee8a",
   "metadata": {},
   "outputs": [],
   "source": [
    "DATA kyotohotels;\n",
    "INFILE datalines;\n",
    "INPUT Hotel $ 1-25 Yen Kilometers;\n",
    "USD = Yen * 0.0089;\n",
    "Miles = Kilometers * 0.62;\n",
    "datalines;\n",
    "The Grand West Arashiyama 32200 9.5\n",
    "Kyoto Sharagam            48000 3.3\n",
    "The Palace Side Hotel     10200 3.8\n",
    "Rinn Fushimiinari         41000 2.9\n",
    "Rinn Nijo Castle          18000 3.3\n",
    "Suiran Kyoto              102000 11.0\n",
    ";\n",
    "RUN;\n",
    "\n",
    "DATA kyotohotels;\n",
    "    SET kyotohotels;\n",
    "    IF miles <= 2.5 THEN Close_or_Far = \"Close\";\n",
    "    IF miles > 2.5 THEN Close_or_Far = \"Far\";\n",
    "    IF USD <= 200 THEN Close_or_Far = \"Cheap\";\n",
    "    IF USD > 200 THEN Close_or_Far = \"Pricy\";\n",
    "RUN;"
   ]
  },
  {
   "cell_type": "markdown",
   "id": "183d1ce9-0c63-462a-9e80-25c8445a95cc",
   "metadata": {},
   "source": [
    "There are some additional notes I want to add to the IF statements. "
   ]
  },
  {
   "cell_type": "markdown",
   "id": "b3f390b7-689c-4d52-b979-143af355af39",
   "metadata": {},
   "source": [
    "### Use ELSE or ELSE IF"
   ]
  },
  {
   "cell_type": "markdown",
   "id": "36a9c651-90f6-471f-805f-5176926e4920",
   "metadata": {},
   "source": [
    "Because we have two gourps only, and when Miles is not less than or equal to 2.5, it can only be bigger than 2.5. Instead of specifying the miles > 2.5 condition, we cal use ELSE. "
   ]
  },
  {
   "cell_type": "code",
   "execution_count": null,
   "id": "fb5dce65-cd4f-49cd-aaa5-cec6869673ee",
   "metadata": {},
   "outputs": [],
   "source": [
    "DATA kyotohotels;\n",
    "    SET kyotohotels;\n",
    "    IF miles <= 2.5 THEN Close_or_Far = \"Close\";\n",
    "    ELSE Close_or_Far = \"Far\";\n",
    "    IF USD <= 200 THEN Close_or_Far = \"Cheap\";\n",
    "    ELSE Close_or_Far = \"Pricy\";\n",
    "RUN;"
   ]
  },
  {
   "cell_type": "markdown",
   "id": "9aae05e5-9d2e-479f-9d63-c393bc00a330",
   "metadata": {},
   "source": [
    "If we want to create more complicated price group, we can use multiple IF statements or ELSE IF. Let's say we want to create a group called really close. A hotel is really close if it is within 2 miles of the station. A hotel is close if it is within 2.5 miles of the station, and far if more than 2.5 miles. Try the following code. Does it do the job?"
   ]
  },
  {
   "cell_type": "code",
   "execution_count": null,
   "id": "e3b804a6-fed9-4809-96fb-a732da5a42c7",
   "metadata": {},
   "outputs": [],
   "source": [
    "DATA kyotohotels;\n",
    "INFILE datalines;\n",
    "INPUT Hotel $ 1-25 Yen Kilometers;\n",
    "USD = Yen * 0.0089;\n",
    "Miles = Kilometers * 0.62;\n",
    "datalines;\n",
    "The Grand West Arashiyama 32200 9.5\n",
    "Kyoto Sharagam            48000 3.3\n",
    "The Palace Side Hotel     10200 3.8\n",
    "Rinn Fushimiinari         41000 2.9\n",
    "Rinn Nijo Castle          18000 3.3\n",
    "Suiran Kyoto              102000 11.0\n",
    ";\n",
    "RUN;\n",
    "\n",
    "DATA kyotohotels;\n",
    "    SET kyotohotels;\n",
    "    IF miles < 2 THEN Close_or_Far = \"Really Close\";\n",
    "    IF miles <= 2.5 THEN Close_or_Far = \"Close\";\n",
    "    IF miles > 2.5 THEN Close_or_Far = \"Far\";\n",
    "RUN;"
   ]
  },
  {
   "cell_type": "markdown",
   "id": "ce1ac45e-0c8d-41cd-8622-216089bfdf12",
   "metadata": {},
   "source": [
    "Because data step is executed line-by-line and row-by-row, the second IF statement is replacing whatever the first IF statement acomplished. \n",
    "\n",
    "To avoid things like this, we should always try to use ELSE IF. Plus, ELSE IF is faster. "
   ]
  },
  {
   "cell_type": "code",
   "execution_count": null,
   "id": "e4486436-0655-4f69-b3eb-2cea97e971fa",
   "metadata": {},
   "outputs": [],
   "source": [
    "DATA kyotohotels;\n",
    "INFILE datalines;\n",
    "INPUT Hotel $ 1-25 Yen Kilometers;\n",
    "USD = Yen * 0.0089;\n",
    "Miles = Kilometers * 0.62;\n",
    "datalines;\n",
    "The Grand West Arashiyama 32200 9.5\n",
    "Kyoto Sharagam            48000 3.3\n",
    "The Palace Side Hotel     10200 3.8\n",
    "Rinn Fushimiinari         41000 2.9\n",
    "Rinn Nijo Castle          18000 3.3\n",
    "Suiran Kyoto              102000 11.0\n",
    ";\n",
    "RUN;\n",
    "\n",
    "DATA kyotohotels;\n",
    "    SET kyotohotels;\n",
    "    IF miles < 2 THEN Close_or_Far = \"Really Close\";\n",
    "    ELSE IF miles <= 2.5 THEN Close_or_Far = \"Close\";\n",
    "    ELSE IF miles > 2.5 THEN Close_or_Far = \"Far\";\n",
    "RUN;"
   ]
  },
  {
   "cell_type": "markdown",
   "id": "e77a2d54-954e-4b58-96c0-83baa85193a4",
   "metadata": {
    "jp-MarkdownHeadingCollapsed": true
   },
   "source": [
    "### Use IF THEN DO END"
   ]
  },
  {
   "cell_type": "markdown",
   "id": "7200a6d3-d7a7-43fe-8a8b-8d9b5bf673f4",
   "metadata": {},
   "source": [
    "When you want to do more than one thing after a condition check, you can use IF ... THEN DO ... END..."
   ]
  },
  {
   "cell_type": "code",
   "execution_count": null,
   "id": "613f9854-6c6c-4367-8719-f8175419db72",
   "metadata": {},
   "outputs": [],
   "source": [
    "DATA kyotohotels;\n",
    "INFILE datalines;\n",
    "INPUT Hotel $ 1-25 Yen Kilometers;\n",
    "USD = Yen * 0.0089;\n",
    "Miles = Kilometers * 0.62;\n",
    "datalines;\n",
    "The Grand West Arashiyama 32200 9.5\n",
    "Kyoto Sharagam            48000 3.3\n",
    "The Palace Side Hotel     10200 3.8\n",
    "Rinn Fushimiinari         41000 2.9\n",
    "Rinn Nijo Castle          18000 3.3\n",
    "Suiran Kyoto              102000 11.0\n",
    ";\n",
    "RUN;\n",
    "\n",
    "DATA kyotohotels;\n",
    "    SET kyotohotels;\n",
    "    LENGTH Close_or_Far $12. Need_Taxi $5.; /* Specifying the length of new character variables */\n",
    "    IF miles < 2 THEN DO;\n",
    "        Close_or_Far = \"Really Close\";\n",
    "        Need_Taxi = \"No\";\n",
    "    END;\n",
    "    ELSE IF miles <= 2.5 THEN DO;\n",
    "        Close_or_Far = \"Close\";\n",
    "        Need_Taxi = \"Maybe\";\n",
    "    END;\n",
    "    ELSE IF miles > 2.5 THEN DO;\n",
    "        Close_or_Far = \"Far\";\n",
    "        Need_Taxi = \"Yes\";\n",
    "    END;\n",
    "RUN;"
   ]
  },
  {
   "cell_type": "markdown",
   "id": "e59debc5-a4cc-461e-86d1-e8439f482f2d",
   "metadata": {},
   "source": [
    "<center><font size=\"+2\">Always close a <b>DO</b> with an <b>END</b>!</font></center>"
   ]
  },
  {
   "cell_type": "markdown",
   "id": "981cb6c1-397a-4210-8bf1-35db681f9746",
   "metadata": {},
   "source": [
    "### Conditional Expressions"
   ]
  },
  {
   "cell_type": "markdown",
   "id": "df8014ac-1c43-46eb-8282-5d7fe29a11eb",
   "metadata": {},
   "source": [
    "To describe the conditions, you can use symbolic expressions like \"<=\", \">=\", \"&\", \"|\"... These are pretty intuitive from our math classes. You can also use mnemonic expressions such as \"LE\", \"GE\", \"AND\", \"OR\".... I always prefer the mnemonic expressions because they are faster to type. \n",
    "\n",
    "Here is a table summarizing these condition checks. Unfortunately there is not too much of understanding about them. You just have to memorize them to use them. Fortunately they make sense. "
   ]
  },
  {
   "cell_type": "markdown",
   "id": "8d43cf40-2519-40ce-a660-8f3cb4a35f25",
   "metadata": {},
   "source": [
    "| Symbolic | Mnemonic | Description |\n",
    "| :-: | :-: | :- |\n",
    "| = | EQ | equal |\n",
    "| ^=, or ~= | NE | not equal |\n",
    "| > | GT | greater than |\n",
    "| < | LT | less than |\n",
    "| >= | GE | greater than or equal to |\n",
    "| <= | LE | less than or equal to |\n",
    "| & | AND | all conditions must be true |\n",
    "| \\| , ¦ , or ! | OR | at least one condition must be true |"
   ]
  },
  {
   "cell_type": "markdown",
   "id": "2d4ab28e-13c0-4d95-9179-d4ab06b7fced",
   "metadata": {},
   "source": [
    "Let's use the previous definitions of cheap and close. Then create another variable called Ranking. If it is cheap and close then we rank it 1, and if it is either cheap or close we rank it 2, and if it is neither cheap or close we rank it 3. Try it your self. Here are the conditions we were using. "
   ]
  },
  {
   "cell_type": "code",
   "execution_count": null,
   "id": "6534256a-1d7b-4b2c-abc9-de4d7220d7a9",
   "metadata": {},
   "outputs": [],
   "source": [
    "miles <= 2.5 /* close */\n",
    "USD <= 200 /* cheap */"
   ]
  },
  {
   "cell_type": "markdown",
   "id": "37adf73a-b96b-4fce-96f1-c83adbb25080",
   "metadata": {},
   "source": [
    "Here is the full code. "
   ]
  },
  {
   "cell_type": "code",
   "execution_count": null,
   "id": "46e27c2c-6864-49a7-abd1-3e957c82bd82",
   "metadata": {},
   "outputs": [],
   "source": [
    "DATA kyotohotels;\n",
    "INFILE datalines;\n",
    "INPUT Hotel $ 1-25 Yen Kilometers;\n",
    "USD = Yen * 0.0089;\n",
    "Miles = Kilometers * 0.62;\n",
    "datalines;\n",
    "The Grand West Arashiyama 32200 9.5\n",
    "Kyoto Sharagam            48000 3.3\n",
    "The Palace Side Hotel     10200 3.8\n",
    "Rinn Fushimiinari         41000 2.9\n",
    "Rinn Nijo Castle          18000 3.3\n",
    "Suiran Kyoto              102000 11.0\n",
    ";\n",
    "RUN;\n",
    "\n",
    "DATA kyotohotels;\n",
    "    SET kyotohotels;\n",
    "    IF miles <= 2.5 and USD <= 200 THEN Rank = 1;\n",
    "    ELSE IF miles <= 2.5 or USD <= 200 THEN rank = 2;\n",
    "    ELSE IF miles > 2.5 or USD > 200 THEN rank = 3;\n",
    "RUN;"
   ]
  },
  {
   "cell_type": "markdown",
   "id": "b85387ba-e30f-4a41-a4b9-4eb3e54f78da",
   "metadata": {},
   "source": [
    "## SAS Functions"
   ]
  },
  {
   "cell_type": "markdown",
   "id": "efc52ede-aa76-4fbb-8320-dc996afc6dd8",
   "metadata": {},
   "source": [
    "* Funcations are important components of any programming language.\n",
    "* To understand a language, we need to know what 3 things:\n",
    "    1. What to feed the function\n",
    "    2. What the function does\n",
    "    3. What the function spit out"
   ]
  },
  {
   "cell_type": "markdown",
   "id": "933a8c51-157c-4b4d-9535-7113d5dbeb99",
   "metadata": {},
   "source": [
    "### Functions for numbers"
   ]
  },
  {
   "attachments": {},
   "cell_type": "markdown",
   "id": "f55feeee-a647-46f7-857d-199259ed9964",
   "metadata": {},
   "source": [
    "The SAS functions for numbers are not so special. There is one thing you really want to keep in mind: each time you call a function, you are calling it on columns, but executed row by row. Let's look at the following example. Suppose I have the test scores of each student and I want to calculate the average of the 5 scores for each student. \n"
   ]
  },
  {
   "cell_type": "code",
   "execution_count": null,
   "id": "209f02ed-1dcc-4d7c-8916-dc7c8400d6dd",
   "metadata": {},
   "outputs": [],
   "source": [
    "DATA class102;\n",
    "INFILE DATALINES MISSOVER;\n",
    "INPUT Name $ Test1 Test2 Test3 Test4 Test5;\n",
    "datalines;\n",
    "Nguyen 89 76 91 82 85\n",
    "Ramos 67 72 80 76 86\n",
    "Robbins 76 65 79 60 55\n",
    ";\n",
    "RUN;\n",
    "\n",
    "DATA class102;\n",
    "    SET class102;\n",
    "    average_score = MEAN(Test1, Test2, Test3, Test4, Test5);\n",
    "RUN;"
   ]
  },
  {
   "cell_type": "markdown",
   "id": "f346f747-3f5d-4c17-9cc4-ad34d79844f5",
   "metadata": {},
   "source": [
    "SAS will look at the values of Test1 to Test5 in the first row, calculate their average, and then move on to the next row. If you want to calculate the average for each test among the 3 students, that is, the average of a column, this is not doable on this data. "
   ]
  },
  {
   "cell_type": "markdown",
   "id": "154167da-afd8-4208-b4a0-fbc74ebc7a16",
   "metadata": {},
   "source": [
    "You can also use just math formula to calculate the average like this: "
   ]
  },
  {
   "cell_type": "code",
   "execution_count": null,
   "id": "511ebf61-eece-464b-a27f-f1c5cd36f695",
   "metadata": {},
   "outputs": [],
   "source": [
    "DATA class102;\n",
    "INFILE DATALINES MISSOVER;\n",
    "INPUT Name $ Test1 Test2 Test3 Test4 Test5;\n",
    "datalines;\n",
    "Nguyen 89 76 91 82 85\n",
    "Ramos 67 72 80 76 86\n",
    "Robbins 76 65 79 60 55\n",
    ";\n",
    "RUN;\n",
    "\n",
    "DATA class102;\n",
    "    SET class102;\n",
    "    average_score1 = MEAN(Test1, Test2, Test3, Test4, Test5);\n",
    "    average_score2 = (Test1 + Test2 + Test3 + Test4 + Test5) / 5;\n",
    "RUN;"
   ]
  },
  {
   "cell_type": "markdown",
   "id": "8f28fd15-c091-4594-8687-2ccd17172397",
   "metadata": {},
   "source": [
    "The functions and math expressions handle missing values differently. Try this. What do you notice? Why the difference? "
   ]
  },
  {
   "cell_type": "code",
   "execution_count": null,
   "id": "39d35c77-f1b1-41be-8364-ae035d812f60",
   "metadata": {},
   "outputs": [],
   "source": [
    "DATA class102;\n",
    "INFILE DATALINES MISSOVER;\n",
    "INPUT Name $ Test1 Test2 Test3 Test4 Test5;\n",
    "datalines;\n",
    "Nguyen 89 76 91 82 85\n",
    "Ramos 67 72 80 76 86\n",
    "Robbins 76 65 79 60\n",
    ";\n",
    "RUN;\n",
    "\n",
    "DATA class102;\n",
    "    SET class102;\n",
    "    average_score1 = MEAN(Test1, Test2, Test3, Test4, Test5);\n",
    "    average_score2 = (Test1 + Test2 + Test3 + Test4 + Test5) / 5;\n",
    "    average_score3 = SUM(Test1, Test2, Test3, Test4, Test5) / 5;\n",
    "RUN;"
   ]
  },
  {
   "cell_type": "markdown",
   "id": "d7c6788c-7828-40ec-9538-2c857ec20dbf",
   "metadata": {},
   "source": [
    "There are just many functions out there. I should not list all of them here. Just keep in mind, all common math operations have a function in SAS. If you need any of them, just google. This is what I got when googling \"remainder of a number in SAS\". You will usually be led here. \n",
    "\n",
    "[SAS Help Center](https://documentation.sas.com/doc/en/vdmmlcdc/8.1/ds2ref/n0t9j8b09x4uphn1kl1i70x63z19.htm)"
   ]
  },
  {
   "cell_type": "markdown",
   "id": "4c050ae6-6461-47b8-91a1-a0715fca9ace",
   "metadata": {
    "jp-MarkdownHeadingCollapsed": true
   },
   "source": [
    "### Functions for Characters"
   ]
  },
  {
   "cell_type": "markdown",
   "id": "bdc89b76-37f6-496b-981d-0c229fd47b0a",
   "metadata": {},
   "source": [
    "Functions for characters are much more complicated. I will introduce a few that I found useful here. \n",
    "* SUBSTR\n",
    "* FIND\n",
    "* INDEX\n",
    "* SCAN\n",
    "* CAT\n",
    "* CATS\n",
    "* CATX\n",
    "* || \n",
    "* COMPRESS\n",
    "* TRIM\n",
    "* TRANSLATE: Replaces specific characters in a character expression.\r\n",
    "\n",
    "* TRANWRD\r\n"
   ]
  },
  {
   "cell_type": "code",
   "execution_count": null,
   "id": "319306af-36e1-4d04-b3c1-fbc5f0c5c5e1",
   "metadata": {},
   "outputs": [],
   "source": [
    "/* Substr */\n",
    "data firstlast;\n",
    "    input string $60.;\n",
    "    WORD1=substr(string, 1,4);\n",
    "    WORD2=substr(string, 2,4);\n",
    "    WORD3=substr(string, 2,3);\n",
    "    datalines;\n",
    "    Jack and Jill\n",
    "    & Bob & Carol & Ted & Alice &\n",
    "    Leonardo\n",
    "    ! $ % & ( ) * + , - . / \n",
    ";;;;\n",
    "RUN;"
   ]
  },
  {
   "cell_type": "code",
   "execution_count": null,
   "id": "da9fc50c-0cea-41ff-8a90-b713e2fb1ecf",
   "metadata": {},
   "outputs": [],
   "source": [
    "/* Index and Find */\n",
    "/* Find */\n",
    "data firstlast;\n",
    "    input string $60.;\n",
    "    find1=find(string,\"Jack\");\n",
    "    find2=find(string,\"Bob\");\n",
    "    find3=find(string,\"&\");\n",
    "    find4=find(string,\"Carol\");\n",
    "    datalines;\n",
    "    Jack and Jill\n",
    "    & Bob & Carol & Ted & Alice &\n",
    "    Leonardo\n",
    "    ! $ % & ( ) * + , - . / \n",
    ";;;;\n",
    "RUN;\n",
    "\n",
    "/* Index */\n",
    "data firstlast;\n",
    "    input string $60.;\n",
    "    index1=index(string,\"Jack\");\n",
    "    index2=index(string,\"Bob\");\n",
    "    index3=index(string,\"&\");\n",
    "    index4=index(string,\"Carol\");\n",
    "    datalines;\n",
    "    Jack and Jill\n",
    "    & Bob & Carol & Ted & Alice &\n",
    "    Leonardo\n",
    "    ! $ % & ( ) * + , - . / \n",
    ";;;;\n",
    "RUN;\n",
    "/* Index and Find are very similar. In Find you can have modifiers and specify the starting position, but you cannot do that in Index. */"
   ]
  },
  {
   "cell_type": "code",
   "execution_count": null,
   "id": "2626e8d7-2741-419e-b61b-69ea685d2eb3",
   "metadata": {},
   "outputs": [],
   "source": [
    "/* Scan */\n",
    "data firstlast;\n",
    "    input string $60.;\n",
    "    First_Word=scan(string, 1);\n",
    "    Last_Word=scan(string, -1);\n",
    "    WORD1=scan(string, 1);\n",
    "    WORD2=scan(string, 2);\n",
    "    WORD3=scan(string, 3);\n",
    "    datalines;\n",
    "    Jack and Jill\n",
    "    & Bob & Carol & Ted & Alice &\n",
    "    Leonardo\n",
    "    ! $ % & ( ) * + , - . / \n",
    ";;;;\n",
    "RUN;"
   ]
  },
  {
   "cell_type": "code",
   "execution_count": null,
   "id": "4217e7f2-74a7-4ba6-b777-8ac0c9bd2530",
   "metadata": {},
   "outputs": [],
   "source": [
    "/* CAT CATS and CATX */\n",
    "data temp;\n",
    "      x='  The 2012 Olym'; \n",
    "      y='pic Arts Festi';\n",
    "      z='  val included works by D  ';\n",
    "      a='ale Chihuly.';\n",
    "      result1=cat(x,y,z,a); /*Does not remove leading or trailing blanks, and returns a concatenated character string.*/\n",
    "      result2=cats(x,y,z,a); /*Removes leading and trailing blanks, and returns a concatenated character string.*/\n",
    "      result3=catx(\"$$\",x,y,z,a); /*Removes leading and trailing blanks, inserts delimiters, and returns a concatenated character string.*/\n",
    "      result4=x||y||z||a; /*The same as CAT*/\n",
    "RUN;"
   ]
  },
  {
   "cell_type": "code",
   "execution_count": null,
   "id": "e5c97fed-b94b-4de0-8df8-497e9287653b",
   "metadata": {},
   "outputs": [],
   "source": [
    "/* Compress and Trim */\n",
    "data temp;\n",
    "      x='The 2012 Olym pic Arts Festi val included works by D ale Chihuly.'; \n",
    "      \n",
    "      x1=compress(x); /*Remove spaces*/\n",
    "      x2=compress(x,\"O \"); /*Remove spaces and O*/\n",
    "      x3=compress(x,\"aeiou\"); /*Remove vowels*/ /*note that these are not treated as a whole thing*/\n",
    "RUN;\n",
    "\n",
    "data temp;\n",
    "      x='The 2012 Olym pic Arts Festi val included works by D ale Chihuly.'; \n",
    "      \n",
    "      x1=trim(x); /*Remove trailing blanks*/\n",
    "RUN;"
   ]
  },
  {
   "cell_type": "code",
   "execution_count": null,
   "id": "99fd24d0-00f3-4ace-ae37-1f5c492bdd05",
   "metadata": {},
   "outputs": [],
   "source": [
    "/* Translate and Tranwrd */\n",
    "data temp;\n",
    "      x='The 2012 Olym pic Arts Festi val included works by D ale Chihuly.'; \n",
    "      \n",
    "      x1=translate(x,\"*****\",\"aeiou\"); /*Replace vowels with *s*/ /*note that aeiow are not treated as a whole thing*/\n",
    "      x2=translate(x,\"^@107\",\"aeiou\"); /*Replace vowels with symbols*/ /*note that aeiow are not treated as a whole thing*/\n",
    "RUN;\n",
    "\n",
    "data temp;\n",
    "      x='The 2012 Olym pic Arts Festi val included works by D ale Chihuly.'; \n",
    "      \n",
    "      x1=Tranwrd(x,\"aeiou\",\"*****\"); /*Nothing happens*/\n",
    "      x2=Tranwrd(x,\"Olym pic\",\"Olympic\"); /*Olym pic is replaced to be one word*/\n",
    "RUN;\n",
    "/* The TRANWRD function differs from TRANSLATE in that it scans for words (or patterns of characters) and replaces \n",
    "those words with a second word (or pattern of characters). */\n",
    "/* As you can see the syntax between translate and tranwrd can get confusing. In traslate, you put what you want as the second\n",
    "arguement, but in tranwrd, you put what you want as the third argument.*/"
   ]
  },
  {
   "cell_type": "markdown",
   "id": "63b8cb83-81f4-4010-9a87-6e1a7a84c5c9",
   "metadata": {
    "jp-MarkdownHeadingCollapsed": true
   },
   "source": [
    "### Converting between Numerics and Characters"
   ]
  },
  {
   "cell_type": "markdown",
   "id": "3ecf24cb-e36d-401b-a174-b33d9f5c5c73",
   "metadata": {},
   "source": [
    "To convert a character value to numerics, use the input function:"
   ]
  },
  {
   "cell_type": "code",
   "execution_count": null,
   "id": "71641ae1-82bf-454c-aeed-e2e364388672",
   "metadata": {},
   "outputs": [],
   "source": [
    "DATA temp;\n",
    "    x = \"0123\";\n",
    "    y = input(x); /*Note that I specify the informat*/\n",
    "run;"
   ]
  },
  {
   "cell_type": "markdown",
   "id": "ad30004b-4c8a-4851-91bd-9c9666046751",
   "metadata": {},
   "source": [
    "To convert a character value to numerics, use the put function:"
   ]
  },
  {
   "cell_type": "code",
   "execution_count": null,
   "id": "616677b8-0cc2-4e7a-b4ce-6c5e5bedcdff",
   "metadata": {},
   "outputs": [],
   "source": [
    "DATA temp;\n",
    "    x = 123;\n",
    "    y = put(x,4.); /*Note that I specify the informat*/\n",
    "run;\n",
    "\n",
    "DATA temp;\n",
    "    x = 123;\n",
    "    y = put(x,z4.); /*Use a special informat to get leading 0s*/\n",
    "run;"
   ]
  },
  {
   "cell_type": "markdown",
   "id": "2cf79fee-539d-4c8f-9086-7e92ad95572f",
   "metadata": {},
   "source": [
    "### Functions for Dates"
   ]
  },
  {
   "cell_type": "markdown",
   "id": "f1af63cb-828d-4533-ab22-2064b0fa5472",
   "metadata": {},
   "source": [
    "#### How dates are handled in SAS"
   ]
  },
  {
   "cell_type": "markdown",
   "id": "badb5dd8-784f-4d9a-bddc-318ad4332aa5",
   "metadata": {},
   "source": [
    "Like any programming language, SAS handles dates as numbers. Run the following code and see what you get. What's the type of \"Date\"?"
   ]
  },
  {
   "cell_type": "code",
   "execution_count": null,
   "id": "d2325ef7-deae-4e4e-b08c-82c765075979",
   "metadata": {},
   "outputs": [],
   "source": [
    "DATA contest;\n",
    "INPUT Name $16. +1 Date MMDDYY10.;\n",
    "DATALINES;\n",
    "Alicia Grossman  10-28-2020\n",
    "Matthew Lee      10-30-2020\n",
    "Elizabeth Garcia 10-29-2020\n",
    "Lori Newcombe    10-30-2020\n",
    "Jose Martinez    10-31-2020\n",
    "Brian Williams   10-29-2020\n",
    "Brony Williams   10-29-1955\n",
    ";\n",
    "RUN;"
   ]
  },
  {
   "cell_type": "markdown",
   "id": "f9a57d42-1662-498f-bf73-0c16720f1bf4",
   "metadata": {},
   "source": [
    "10-28-2020 becomes 22216! \n",
    "\n",
    "Because 10-28-2020 is exactly 22216 days from 01-01-1960, which is the base date in SAS. If you enter a date before that, it will be loaded as a negative number. "
   ]
  },
  {
   "cell_type": "markdown",
   "id": "2cc47066-4ca5-4bea-a519-c7f065b20170",
   "metadata": {},
   "source": [
    "#### Date format and date informat"
   ]
  },
  {
   "cell_type": "markdown",
   "id": "0bb66574-3415-4c1c-b39a-c9e1f8b4cb51",
   "metadata": {},
   "source": [
    "I cannot understand 22216 without the help of a calculator. How can we see the actual date? We need to ***FORMAT*** the variable. "
   ]
  },
  {
   "cell_type": "code",
   "execution_count": null,
   "id": "124c22fd-b276-41b0-8373-d8d01242e785",
   "metadata": {},
   "outputs": [],
   "source": [
    "DATA contest;\n",
    "INPUT Name $16. +1 Date MMDDYY10.; /* This MMDDYY10. is INFORMAT */\n",
    "FORMAT Date MMDDYY10.; /* This MMDDYY10. is FORMAT */\n",
    "DATALINES;\n",
    "Alicia Grossman  10-28-2020\n",
    "Matthew Lee      10-30-2020\n",
    "Elizabeth Garcia 10-29-2020\n",
    "Lori Newcombe    10-30-2020\n",
    "Jose Martinez    10-31-2020\n",
    "Brian Williams   10-29-2020\n",
    "Brony Williams   10-29-1955\n",
    ";\n",
    "RUN;"
   ]
  },
  {
   "cell_type": "markdown",
   "id": "f16fac8f-11ec-4f3f-8994-90d7b0d257d1",
   "metadata": {},
   "source": [
    "INFORMAT tells SAS how to read the raw data. FORMAT tells SAS how to display the data. "
   ]
  },
  {
   "cell_type": "markdown",
   "id": "c8134238-d4e6-4f3e-aa88-983d93517f1a",
   "metadata": {},
   "source": [
    "Try the following and see the difference. "
   ]
  },
  {
   "cell_type": "code",
   "execution_count": null,
   "id": "2dc93122-46a3-424c-844c-889472d047b4",
   "metadata": {},
   "outputs": [],
   "source": [
    "DATA contest;\n",
    "INPUT Name $16. +1 Date MMDDYY10.;\n",
    "FORMAT Date date9.;\n",
    "DATALINES;\n",
    "Alicia Grossman  10-28-2020\n",
    "Matthew Lee      10-30-2020\n",
    "Elizabeth Garcia 10-29-2020\n",
    "Lori Newcombe    10-30-2020\n",
    "Jose Martinez    10-31-2020\n",
    "Brian Williams   10-29-2020\n",
    "Brony Williams   10-29-1955\n",
    ";\n",
    "RUN;\n",
    "\n",
    "DATA contest;\n",
    "INPUT Name $16. +1 Date date9.;\n",
    "FORMAT Date MMDDYY10.;\n",
    "DATALINES;\n",
    "Alicia Grossman  10-28-2020\n",
    "Matthew Lee      10-30-2020\n",
    "Elizabeth Garcia 10-29-2020\n",
    "Lori Newcombe    10-30-2020\n",
    "Jose Martinez    10-31-2020\n",
    "Brian Williams   10-29-2020\n",
    "Brony Williams   10-29-1955\n",
    ";\n",
    "RUN;"
   ]
  },
  {
   "cell_type": "markdown",
   "id": "def32b12-5157-40db-9532-48f48b9f6dd6",
   "metadata": {},
   "source": [
    "#### Date as strings"
   ]
  },
  {
   "cell_type": "markdown",
   "id": "c7d1869c-5c44-4791-a025-aadbd7221108",
   "metadata": {},
   "source": [
    "Sometimes you may get a data where the date is loaded as a string. "
   ]
  },
  {
   "cell_type": "code",
   "execution_count": null,
   "id": "a8ca9598-ed15-4fad-8b80-af3957b696ba",
   "metadata": {},
   "outputs": [],
   "source": [
    "DATA contest;\n",
    "INPUT Name $16. +1 Date $10.; /* Here the informat is not a date informat, so SAS will take it as a 10-character string. */\n",
    "DATALINES;\n",
    "Alicia Grossman  10-28-2020\n",
    "Matthew Lee      10-30-2020\n",
    "Elizabeth Garcia 10-29-2020\n",
    "Lori Newcombe    10-30-2020\n",
    "Jose Martinez    10-31-2020\n",
    "Brian Williams   10-29-2020\n",
    "Brony Williams   10-29-1955\n",
    ";\n",
    "RUN;"
   ]
  },
  {
   "cell_type": "markdown",
   "id": "42c78cd2-93ab-4874-8ba3-753937bc0896",
   "metadata": {},
   "source": [
    "What can we do? We can extract month, day, and year from the string using SAS character functions. \n",
    "\n",
    "Which one to use? \n",
    "* Do you recall which function gives a part of a string? "
   ]
  },
  {
   "cell_type": "code",
   "execution_count": null,
   "id": "a8e9b8f8-7c32-4f6e-8c3f-35cf5393121d",
   "metadata": {},
   "outputs": [],
   "source": [
    "DATA contest;\n",
    "SET contest;\n",
    "Month = substr(Date,1,2); /* Note that the output of substr is also a string. */\n",
    "Day = substr(Date,4,2);\n",
    "Year = substr(Date,7,2);\n",
    "RUN;"
   ]
  },
  {
   "cell_type": "markdown",
   "id": "e438072f-17c4-408a-9c53-332ddce0d626",
   "metadata": {},
   "source": [
    "How do we turn this into a date? We have to convert the strings into numerics and then use the mdy() function. \n",
    "\n",
    "The MDY function takes Month, Day, and Year as 3 inputs and returns a numeric date, but still without formatting. "
   ]
  },
  {
   "cell_type": "code",
   "execution_count": null,
   "id": "d32d15fb-d8d6-4691-9cc5-ea8cb94d9711",
   "metadata": {},
   "outputs": [],
   "source": [
    "DATA contest;\n",
    "SET contest;\n",
    "Month = input(substr(Date,1,2), 4.); \n",
    "Day = input(substr(Date,4,2), 4.);\n",
    "Year = input(substr(Date,7,2), 4.);\n",
    "\n",
    "Num_Date = mdy(month, day, year);\n",
    "format num_date date9.;\n",
    "RUN;"
   ]
  },
  {
   "cell_type": "markdown",
   "id": "0e75c49f-a2d4-4eb8-9148-9255548abc18",
   "metadata": {},
   "source": [
    "Alternatively, we can use PUT and INPUT functions. \n",
    "* ***PUT***: Returns a value using a specified **format**.\n",
    "* ***INPUT***: Returns the value produced when a SAS expression that uses a specified **informat** expression is read\n",
    "As you see, the difference is format vs informat. What does it mean though? Let's look at an example. ad"
   ]
  },
  {
   "cell_type": "code",
   "execution_count": null,
   "id": "59194096-0e6e-48ec-8701-dde58008248a",
   "metadata": {},
   "outputs": [],
   "source": [
    "data temp;\n",
    "    numeric = 1234; \n",
    "    character=put(numeric,6.); /*The 6. here is the specified FORMAT*//*Converting Numeric Values to Character Value*/\n",
    "run;"
   ]
  },
  {
   "cell_type": "code",
   "execution_count": null,
   "id": "a4f4b6b3-dd21-4c20-a4a9-a82eb3ebeb0b",
   "metadata": {},
   "outputs": [],
   "source": [
    "data temp;\n",
    "    character = \"001234\"; \n",
    "    numeric = input(character,6.); /*The 6. here is the specified INFORMAT*/ /*Converting Character Values to Numeric Value*/\n",
    "run;"
   ]
  },
  {
   "cell_type": "markdown",
   "id": "cff39704-7eb4-46e8-9530-8786371ba610",
   "metadata": {},
   "source": [
    "If the date is loaded as a string, how do we turn it into a number? \n",
    "* Right! Use INPUT function and INFORMAT. "
   ]
  },
  {
   "cell_type": "code",
   "execution_count": null,
   "id": "530fce1d-9698-4a41-a898-10dcdcd049a5",
   "metadata": {},
   "outputs": [],
   "source": [
    "data temp;\n",
    "    char_date = \"1999-07-09\"; \n",
    "    num_date = input(char_date,YYMMDD10.); /*Converting Character Values to Numeric Value*/\n",
    "    format num_date YYMMDD10.;\n",
    "run;"
   ]
  },
  {
   "attachments": {},
   "cell_type": "markdown",
   "id": "0678a969-a07c-4bdb-a79d-373d86fa323a",
   "metadata": {},
   "source": [
    "DATETIME format\n",
    "* DATETIME w.d\n",
    "    * **w** specifies the width of the output field.\n",
    "        * Default: 16\n",
    "        * Range: 7–40\n",
    "        * Tip: SAS requires a minimum w value of 16 to write a SAS datetime value with the date, hour, and seconds. Add an additional two places to w and a value to d to return values with optional decimal fractions of seconds.\n",
    "    * **d** specifies the number of digits to the right of the decimal point in the seconds value. This argument is optional.\n",
    "        * Range: 0–39\n",
    "        * Requirement: must be less than w"
   ]
  },
  {
   "attachments": {},
   "cell_type": "markdown",
   "id": "ee8cc592-3217-469f-8cdc-a7a50a37a6f3",
   "metadata": {},
   "source": [
    "Common DATETIME INFORMATS\n",
    "\n",
    "You can find more here: [Date and Datetime Informats](https://documentation.sas.com/doc/en/pgmsascdc/9.4_3.4/etsug/etsug_intervals_sect009.htm)\n",
    "\n",
    "| Informat/Example | Description | Width Range | Default Width |\n",
    "| --- | --- | --- | --- |\n",
    "| ANYDTDTEw. | Reads and extracts the date value from any of the following: DATE, DATETIME, DDMMYY, JULIAN, MDYAMPM, MMDDYY, MMxYY*, MONYY, TIME, YMDDTTM, YYMMDD, YYQ, YYxMM*, month-day-year | 5–32 | 9 |\n",
    "| ANYDTDTMw. | Reads and extracts the datetime value from anyof the following: DATE, DATETIME, DDMMYY,JULIAN, MMDDYY, MMxYY*, MONYY,TIME, YYMMDD, YYQ, YYxMM*,month-day-year | 1–32 | 19 |\n",
    "| ANYDTTMEw. | Reads and extracts the time value from anyof the following: DATE, DATETIME, DDMMYY,JULIAN, MMDDYY, MONYY, TIME,YYMMDD, YYQ, month-day-year  | 1–32 | 8 |\n",
    "| DATEw. | Day, month abbreviation, and year: | 7–32 | 7 |\n",
    "| DATETIMEw.d | Date and time: ddmonyy:hh:mm:ss | 13–40 | 18 |"
   ]
  },
  {
   "cell_type": "code",
   "execution_count": null,
   "id": "a131feca-f6ab-4f36-af34-6acb445a19a2",
   "metadata": {},
   "outputs": [],
   "source": [
    "data temp;\n",
    "    char_date = \"1999-07-09:11:20:23\"; \n",
    "    num_date = input(char_date,ANYDTDTM19.); /*Converting Character Values to Numeric Value*/\n",
    "    format num_date datetime16.;\n",
    "run;"
   ]
  },
  {
   "cell_type": "markdown",
   "id": "e95f2836-792f-4855-ace2-7d7eb933d0b6",
   "metadata": {},
   "source": [
    "#### Commonly used date functions"
   ]
  },
  {
   "cell_type": "markdown",
   "id": "0729864f-fc97-4984-8148-c85499b1edb6",
   "metadata": {},
   "source": [
    "Again, there are many date functions. I will list some commonly used ones here. \n",
    "* INTNX: Returns the interval between two dates\n",
    "* INTCN: Increments a date"
   ]
  },
  {
   "cell_type": "code",
   "execution_count": null,
   "id": "842a43be-7742-4603-997c-d97f9a30d517",
   "metadata": {},
   "outputs": [],
   "source": [
    "data b;\n",
    "    FORMAT WeddingDay date9. today date9.;\n",
    "    WeddingDay='14feb2021'd;\n",
    "    Today=today();\n",
    "    YearsMarried=intck('YEAR', WeddingDay, today(), 'C');\n",
    "    MonthsMarried=intck('MONTH', WeddingDay, today(), 'C');\n",
    "    DaysMarried=intck('DAY', WeddingDay, today(), 'C');\n",
    "run;"
   ]
  },
  {
   "cell_type": "code",
   "execution_count": null,
   "id": "83ad34a1-4ba2-42c3-8ccd-3139a945aa24",
   "metadata": {},
   "outputs": [],
   "source": [
    "data b;\n",
    "    FORMAT WeddingDay date9. today date9. FirstAnn date9. SecondAnn date9. SixMonthAnn date9.;\n",
    "    WeddingDay='14feb2021'd;\n",
    "    Today=today();\n",
    "    FirstAnn=intnx('YEAR', WeddingDay, 1, 'SAME');\n",
    "    SecondAnn=intnx('YEAR', WeddingDay, 2, 'SAME');\n",
    "    SixMonthAnn=intnx('MONTH', WeddingDay, 6, 'SAME');\n",
    "run;"
   ]
  }
 ],
 "metadata": {
  "kernelspec": {
   "display_name": "SAS",
   "language": "sas",
   "name": "sas"
  },
  "language_info": {
   "codemirror_mode": "sas",
   "file_extension": ".sas",
   "mimetype": "text/x-sas",
   "name": "sas"
  }
 },
 "nbformat": 4,
 "nbformat_minor": 5
}
