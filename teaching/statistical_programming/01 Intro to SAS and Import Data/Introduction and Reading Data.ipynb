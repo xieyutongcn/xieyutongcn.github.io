{
 "cells": [
  {
   "cell_type": "markdown",
   "id": "a235fbec-55e0-43db-ba6e-ded3b78d51b5",
   "metadata": {},
   "source": [
    "# An Introduction to SAS"
   ]
  },
  {
   "cell_type": "markdown",
   "id": "8b56a512-7a42-4868-b4ba-957143412193",
   "metadata": {},
   "source": [
    "## Some beginnning notes"
   ]
  },
  {
   "cell_type": "markdown",
   "id": "57c9cf8f-1ed4-4387-98ae-abc80b79c660",
   "metadata": {},
   "source": [
    "* Something about me\n",
    "    * Name: Yutong Xie\n",
    "    * Email: <yxiefin@gmail.com>\n",
    "    * I put all the material here: <https://github.com/xieyutongcn/Statistical_Programming>\n",
    "* My materials are mostly from the following 3 sources. They all deserve the credit if you learnt anything from this course. \n",
    "    * **The Little SAS Book** by *Lora D. Delwiche and Susan J. Slaughter*. This is absolutely the best book in the world for SAS programming.\n",
    "    * **The Book of R: A First Course in Programming and Statistics** by *Tilman M. Davies*. There are so many R resources on the internet. I like this book because it is very fundamental. \n",
    "    * **Google** Both SAS and R have well maintained communities. We can ask questions and find answers to questions that are new to we but old to the internet. People who programs in these languages are nice most of the times. I also program in Stata. There are only a few people answering a lot of the questions in that community and they are mean."
   ]
  },
  {
   "cell_type": "markdown",
   "id": "21929784-85d0-4670-8671-803eb3b08c8c",
   "metadata": {},
   "source": [
    "---"
   ]
  },
  {
   "cell_type": "markdown",
   "id": "c75e3383-64ee-4775-951e-a46d37edb412",
   "metadata": {},
   "source": [
    "## The Language"
   ]
  },
  {
   "attachments": {},
   "cell_type": "markdown",
   "id": "38078655-a0a3-47f1-a2b7-9494febd2c97",
   "metadata": {},
   "source": [
    "* Just think programing as a kind of language that a machine can understand.\n",
    "* We talk in the same language, so we can tell the machine what to do.\n",
    "    * Language has rules. Same with SAS. \n",
    "    * The most important rule is: ***EVERY SAS STATEMENT ENDS WITH A SEMICOLON***\n",
    "    *  Basically SAS will listen to what we tell it to do until it sees a semicolon, and then do it."
   ]
  },
  {
   "attachments": {},
   "cell_type": "markdown",
   "id": "6cb228b1-dba4-44c2-b689-cabe1ef5fd12",
   "metadata": {},
   "source": [
    "---"
   ]
  },
  {
   "cell_type": "markdown",
   "id": "5a687ff1-0da3-485b-a864-90169a9b20d9",
   "metadata": {},
   "source": [
    "## A good program is a green program"
   ]
  },
  {
   "attachments": {},
   "cell_type": "markdown",
   "id": "c1f9265a-51ca-472c-9268-ddd2dc2f3bf3",
   "metadata": {},
   "source": [
    "* SAS is much more flexible than a lot other languages. As a result, it is possible to write a piece that is very difficult to understand.\n",
    "* ***Commenting is very Very very Very very Very very important. We cannot comment more.***\n",
    "* Comments are not executed by SAS. They are just notes for people to read. \n",
    "* How to comment in SAS?\n",
    "    * /\\*...\\*/ or \\* ... ;\n",
    "* Let's write our first comment and take the chance to get to know the SAS Studio!\n",
    "    * __[https://welcome.oda.sas.com/](https://welcome.oda.sas.com/)__\n",
    "\n",
    "<img src=\"SheldonWhyMeme.jpg\"/>"
   ]
  },
  {
   "cell_type": "code",
   "execution_count": null,
   "id": "46777615-46bf-40a1-b76a-8ff2a249b0bb",
   "metadata": {},
   "outputs": [],
   "source": [
    "/* This is my first SAS program! */\n",
    "\n",
    "* This is my first SAS program! ;\n",
    "\n",
    "/*\n",
    "    This is also fine. \n",
    "*/\n",
    "\n",
    "* \n",
    "    This is also fine.\n",
    ";\n",
    "\n",
    "/* **************************************\n",
    "You can put a lot of information here. \n",
    "For example, information about the program\n",
    "Author: \n",
    "Date:\n",
    "Title:\n",
    "Purpose:\n",
    "Version control:\n",
    "************************************** */\n",
    "\n",
    "/*\n",
    "\n",
    "This is a stronger form of comment, you can have code blocks in this\n",
    "\n",
    "proc sql noprint;\n",
    "quit;\n",
    "\n",
    "*/\n",
    "\n",
    "/* This won't work! But why? */\n",
    "* \n",
    "    proc sql noprint;\n",
    "    quit;\n",
    ";"
   ]
  },
  {
   "cell_type": "markdown",
   "id": "370ff785-8cd0-4c44-89b4-7298c624fda9",
   "metadata": {},
   "source": [
    "---"
   ]
  },
  {
   "cell_type": "markdown",
   "id": "43065d1d-2581-4097-b103-4d3b9ceee043",
   "metadata": {},
   "source": [
    "## Small Steps Forward"
   ]
  },
  {
   "cell_type": "markdown",
   "id": "b7b20911-03e6-4384-a2b4-d995996b8a40",
   "metadata": {},
   "source": [
    "* I have to say a machine is powerful but not very smart. For the machine to do what we want it to do, we have to give the machine corret, detailed, and unambigious instructions. \n",
    "* Think about which one of the following is easier for a 5-year-old to understand\n",
    "    * Build a pyramid with these 15 cubic block\n",
    "    * Lay 5 blocks right next to each other in a straight line; Lay 4 blocks on top of the 5 we have laid down; Lay 3 blocks on top of the 4 we h ve laid down; Lay 2 blocks on top of the 3 we have laid down; Lay 1 blocks on top of the 2 we have laid down; We have a pyramid.\n",
    "* Writing programs should be done in small steps.\n",
    "    * Think about what we want to achieve.\n",
    "    * Know the data we are handling.\n",
    "    * Think about how we can move from the data we **have** to the data we **want**, and lawet the *small* steps.\n",
    "    * Use the right tools to execute each step.\n",
    "    * Check for and correct any errors or mistakes.\n",
    "    * Try to improve the program to make it faster, shorter, and easier to understand.\n",
    "    * Package useful code for future uses. "
   ]
  },
  {
   "cell_type": "markdown",
   "id": "8553cf95-378d-423a-8a84-6d518e76e81f",
   "metadata": {},
   "source": [
    "---"
   ]
  },
  {
   "attachments": {},
   "cell_type": "markdown",
   "id": "a9d2a0c8-0b57-45b1-8902-ac7d1335efa1",
   "metadata": {},
   "source": [
    "## SAS Data Sets"
   ]
  },
  {
   "attachments": {},
   "cell_type": "markdown",
   "id": "86223486-dc51-4a08-a9f2-f982f9973d6f",
   "metadata": {},
   "source": [
    "* SAS needs data to perform the actions it is capable of.\n",
    "    * In other words, SAS operates on data . \n",
    "* Here is an example\n",
    "\n",
    "<img src=\"ExampleData1.png\"/>\n",
    "\n",
    "* Let's put this data in our SAS Studio!"
   ]
  },
  {
   "cell_type": "code",
   "execution_count": null,
   "id": "24f01b52-65f2-43a6-a05e-9c55fe74533b",
   "metadata": {},
   "outputs": [],
   "source": [
    "/* Copy and paste the following code in wer SAS Studio and Click Submit. */\n",
    "DATA Height_and_Weight;\n",
    "INPUT ID Name $ Height Weight;\n",
    "DATALINES;\n",
    "53 Susie 42 41\n",
    "54 Charlie 46 55\n",
    "55 Calvin 40 35\n",
    "56 Lucy 46 52\n",
    ";\n",
    "RUN;\n",
    "\n",
    "PROC PRINT DATA = Height_and_Weight;\n",
    "RUN;"
   ]
  },
  {
   "attachments": {},
   "cell_type": "markdown",
   "id": "f55feeee-a647-46f7-857d-199259ed9964",
   "metadata": {},
   "source": [
    "---"
   ]
  },
  {
   "attachments": {},
   "cell_type": "markdown",
   "id": "0e28951c-3ed6-4dc2-900f-f16b65b5d853",
   "metadata": {},
   "source": [
    "## Read the Log!"
   ]
  },
  {
   "attachments": {},
   "cell_type": "markdown",
   "id": "c624c626-0c72-40f8-9e69-ccaf9395dc14",
   "metadata": {},
   "source": [
    "* When a program is executed, a log is generated in the log window. ALWAYS read log! It contains useful information.\n",
    "* There are three types of log messages, colored blue, green and red.\n",
    "    * NOTE: blue, general (good) information, useful, number of obs.\n",
    "    * WARNING: green, not an error but SAS informs we that we may have a problem, although it does not stop processing, still creates a data set\n",
    "    * ERROR: red, an error in the code, SAS cannot process the data step, it stops! If we are running the data step to replace an older version of a data set, it has NOT been replaced!\n",
    "        * SAS will stop at ERROR. This is pretty important. This means only the steps before the error are executed.\n",
    "        * When there is not an error, there can still be mistakes in the code. As a result, we have to check the output."
   ]
  },
  {
   "cell_type": "markdown",
   "id": "bdc89b76-37f6-496b-981d-0c229fd47b0a",
   "metadata": {},
   "source": [
    "---"
   ]
  },
  {
   "cell_type": "markdown",
   "id": "0c72c452-1f67-472f-9061-d3c5e9eafb92",
   "metadata": {},
   "source": [
    "## Data Types"
   ]
  },
  {
   "cell_type": "markdown",
   "id": "aeb9585b-dcce-4b9d-91f1-36d28dc42255",
   "metadata": {},
   "source": [
    "* Each column should have one data type. \n",
    "    * Numeric or Character\n",
    "        * Each column can have only one data type.  \n",
    "* Why the difference? \n",
    "    * They are created differently.\n",
    "        * Numerics are just numbers: 1, 2, 100.\n",
    "        * Characters need quotes: \"1\", \"2\", \"100\".\n",
    "    * We have to perform different operations. \n",
    "        * For example, we can add two numeric columns together but we cannot sum two characters. \n",
    "* Let's check the datatypes of the columns in the data set we just loaded!"
   ]
  },
  {
   "cell_type": "markdown",
   "id": "6425447d-8e43-4379-9c97-512e287b50f9",
   "metadata": {},
   "source": [
    "---"
   ]
  },
  {
   "cell_type": "markdown",
   "id": "caf0ceca-efc1-44a4-bb3b-bca116ad15e3",
   "metadata": {},
   "source": [
    "## DATA and PROC"
   ]
  },
  {
   "cell_type": "markdown",
   "id": "2cfe973e-13bb-45ad-ab52-8b3657582dd1",
   "metadata": {},
   "source": [
    "* SAS programs are constructed from two basic building blocks: ***DATA*** steps and ***PROC*** steps. \n",
    "    * DATA steps start with DATA and PROC steps start with PROC.\n",
    "    * A typical program starts with a DATA step to create or modify a SAS data set and then passes the data to a PROC step for processing.* In other words,\n",
    "        * Data steps are used for actions on rows (eg. create a new variable from another variable).\n",
    "            * Data steps are usually executed row-by-row and line-by-line. This is a pretty important feature and shapes a lot of the logics in SAS. More later.\n",
    "        * Proc steps are used for actions on columns (eg. calculate a mean of a variable)\n",
    " \n",
    "<img src=\"DATAvsPROC.png\"/>\n",
    "\n",
    "* Let's do this: \n",
    "    * Create a SAS dataset using the previously loaded dataset and name the new data \"BMI\".\n",
    "    * Create a new column in the data called BMI. Name the column BMI and BMI is calculated as weight divided the square of height.\n",
    "    * Print the results.\n",
    "* When we are done\n",
    "    * Congratulations, we have created wer first SAS program!\n",
    "    * Think about it. What did we do? What does the program do for us?\n",
    "        * We created and modified data using DATA step.\n",
    "        * We print the data using PROC step. "
   ]
  },
  {
   "cell_type": "code",
   "execution_count": null,
   "id": "9bbe8a77-6bde-4e2c-848a-3b61ed4a65ea",
   "metadata": {},
   "outputs": [],
   "source": [
    "DATA BMI;\n",
    "    set Height_and_Weight;\n",
    "    BMI = weight / height**2;\n",
    "RUN;\n",
    "\n",
    "PROC PRINT data = BMI;\n",
    "RUN;"
   ]
  },
  {
   "cell_type": "markdown",
   "id": "bb947dd7-285f-4a6b-b132-0d657a9db3b0",
   "metadata": {},
   "source": [
    "---"
   ]
  },
  {
   "cell_type": "markdown",
   "id": "105b3a23-40da-4159-bfda-52820b00b5e7",
   "metadata": {},
   "source": [
    "## SAS Data Libraries"
   ]
  },
  {
   "cell_type": "markdown",
   "id": "9afdbf87-a53a-4ae0-915e-66007ccd52c7",
   "metadata": {},
   "source": [
    "* SAS data sets are stored and accessed via SAS data libraries.\n",
    "* There is a WORK library by default created and refreshed every time SAS is initiated. \n",
    "    * So the data here will be temporary.\n",
    "* We can define other libraries using the LIBNAME statement. \n",
    "    * So the data here will be permanent.\n",
    "* We can create data in a library using the DATA step.\n",
    "    * When loading data from a library, we need to use the dot \".\"\n",
    "* Let's do this:\n",
    "    * On SAS Studio, create a folder called \"Class_Output\".\n",
    "        * Click on \"Server Files and Folders\"\n",
    "        * -> Right click on \"Files (Home)\"\n",
    "        * -> Hover over \"New\" and click on \"Folder\"\n",
    "        * -> Enter \"Class_Output\" in the box after Name.\n",
    "        * -> Click \"Save\".\n",
    "    * Create a library called \"Class_Export\" that's linked to the \"Class_Export\" folder we just created.\n",
    "        * We have to know the path to the folder in this one.\n",
    "            * It should look like /home/u'wer user ID'/. In the code below, 63703618 is my user ID, so the path is \"/home/u63703618/Class_Export\".\n",
    "    * Create a copy of the BMI data in this folder. "
   ]
  },
  {
   "cell_type": "code",
   "execution_count": null,
   "id": "b8f65da0-1a51-48db-80aa-acd2da7293cf",
   "metadata": {},
   "outputs": [],
   "source": [
    "LIBNAME Class_Export \"/home/u63703618/Class_Export\";\n",
    "DATA Class_Export.BMI;\n",
    "    set BMI;\n",
    "run;"
   ]
  },
  {
   "cell_type": "markdown",
   "id": "35246bbf-10ad-4486-b130-5e98da92850d",
   "metadata": {},
   "source": [
    "---"
   ]
  },
  {
   "cell_type": "markdown",
   "id": "a0981b65-9aa2-499c-a134-152d78e42aa2",
   "metadata": {},
   "source": [
    "# Reading Data into SAS"
   ]
  },
  {
   "cell_type": "markdown",
   "id": "1a65a037-5f6d-47ff-a4fc-0124dc3908cc",
   "metadata": {},
   "source": [
    "## The Goal"
   ]
  },
  {
   "cell_type": "markdown",
   "id": "81b18586-d1bc-44f0-b532-f9518581ce00",
   "metadata": {},
   "source": [
    "* In this section, we just want to read data into SAS. There can be many complexities, but SAS can handle most of it.\n",
    "* I will also go over some important concepts and backstage operations that helps we with understanding SAS codes overall."
   ]
  },
  {
   "cell_type": "markdown",
   "id": "77d3a7ff-d0b0-4c73-b7bf-f209874301ff",
   "metadata": {},
   "source": [
    "---"
   ]
  },
  {
   "cell_type": "markdown",
   "id": "fffdbd41-0160-4a76-985b-c1454dd7679f",
   "metadata": {},
   "source": [
    "## The easy"
   ]
  },
  {
   "cell_type": "markdown",
   "id": "c6f12c0b-6ef4-4c06-ab7d-25ecdbe981a9",
   "metadata": {},
   "source": [
    "* If a data set is a well maintained CSV file, excel file, or even dta file, we can just use PROC IMPORT."
   ]
  },
  {
   "cell_type": "code",
   "execution_count": null,
   "id": "9ffe4bc9-44c4-40f2-9896-9bb1abbe57fc",
   "metadata": {},
   "outputs": [],
   "source": [
    "PROC IMPORT DATAFILE = 'filename' OUT = dataset DBMS = identifier REPLACE;"
   ]
  },
  {
   "cell_type": "markdown",
   "id": "1bf7ca60-171e-45ee-a9ee-cb646ebf2391",
   "metadata": {},
   "source": [
    "* There are quite a few useful statements under PROC IMPORT that we can introduce, but instead of listing everything here. Let's try to introduce those as we go. For now, I just want to point out 3\n",
    "    * **GUESSINGROWS = n | MAX;** This is needed when we have a large file. SAS will just read a limited number of rows if we do not specify this. We may end up with an incomplete import.\n",
    "    * **GETNAMES = YES;** This is needed if wer excel file has column titles.\n",
    "    * **SHEET = \"Sheet1\";** This is needed if we have multiple sheets to read."
   ]
  },
  {
   "cell_type": "code",
   "execution_count": null,
   "id": "22fdff05-30f1-4cf8-9e3c-4ba757422fc1",
   "metadata": {},
   "outputs": [],
   "source": [
    "PROC IMPORT DATAFILE = 'filename' OUT = dataset DBMS = identifier REPLACE;\n",
    "    GUESSINGROWS = MAX;\n",
    "    GETNAMES = YES;\n",
    "    SHEET = \"Sheet1\";\n",
    "run;"
   ]
  },
  {
   "cell_type": "markdown",
   "id": "1491b202-f067-4a9a-a9ac-f9acd31af233",
   "metadata": {},
   "source": [
    "* Let's try to do the following:\n",
    "    * Download the excel file called trees.\n",
    "        * There are 3 sheets. Take a look. \n",
    "    * Upload it to SAS ODA\n",
    "        * Follow the same steps to create a directory and name it \"Class_Input\".\n",
    "    * Use PROC IMPORT to read the 3 sheets and let's just call them \"Type\", \"Size\", and \"Feature\". "
   ]
  },
  {
   "cell_type": "markdown",
   "id": "6c966fa4",
   "metadata": {},
   "source": [
    "* If the data set is already a sas data file \n",
    "    * Usually with extension name .sas7bdat\n",
    "* We can simply use the SET statement. "
   ]
  },
  {
   "cell_type": "code",
   "execution_count": null,
   "id": "e587a86e",
   "metadata": {},
   "outputs": [],
   "source": [
    "DATA CARS; /* Create a sas data called CARS*/\n",
    "    SET SASHELP.CARS; /* Reading observations from a data also called CARS but from a place called SASHELP (more on this later).  */\n",
    "RUN;\n",
    "\n",
    "PROC PRINT DATA = CARS (OBS = 5); /* Printing the first 5 observations of the new created data CARS */\n",
    "RUN;"
   ]
  },
  {
   "cell_type": "markdown",
   "id": "3e55b322-dd63-48ce-b226-e9b0f80cc1bd",
   "metadata": {},
   "source": [
    "---"
   ]
  },
  {
   "cell_type": "markdown",
   "id": "04c583e2-6726-4c49-8b8d-b8667577adaf",
   "metadata": {},
   "source": [
    "## The hard"
   ]
  },
  {
   "cell_type": "markdown",
   "id": "d3106373-08e4-4dd6-8525-a7c4ccdb6b37",
   "metadata": {},
   "source": [
    "* When we have to type in the data like we did in the last session or when we read **raw data**, we need to use the input and/or datalines. \n",
    "* Recall the code we used: "
   ]
  },
  {
   "cell_type": "code",
   "execution_count": null,
   "id": "c9b762ff-1d93-46b0-a1e4-232925a5ff02",
   "metadata": {},
   "outputs": [],
   "source": [
    "DATA Height_and_Weight;\n",
    "INPUT ID Name $ Height Weight;\n",
    "DATALINES;\n",
    "53 Susie 42 41\n",
    "54 Charlie 46 55\n",
    "55 Calvin 40 35\n",
    "56 Lucy 46 52\n",
    ";\n",
    "RUN;"
   ]
  },
  {
   "cell_type": "markdown",
   "id": "8b0b60e8-01b1-4b88-8255-42ca5bdbb667",
   "metadata": {},
   "source": [
    "* This data is delimited by ***spaces***. To read space-delimited values, we can use this simple data step.\n",
    "    * If the values in our raw data file are all separated by at least one space, then using **list input** (also called **free formatted** or **space-delimited input**) to read the data may be appropriate.\n",
    "        * This means using the ***INPUT*** statement\n",
    "    * By default, you must read all the data in a record—no skipping over unwanted values.\n",
    "    * Any missing data must be indicated with a period.\n",
    "    * Character data must be simple—no embedded spaces, and no values greater than 8 characters in length.\n",
    "* If the data file contains dates or other values that need special treatment, then list input would not be appropriate.\n",
    "* This may sound like a lot of restrictions, but a surprising number of data files can be read using list input."
   ]
  },
  {
   "cell_type": "markdown",
   "id": "4e7d6204-3cf2-4f89-a2cc-1fa71e5d4911",
   "metadata": {},
   "source": [
    "## Complexity 1: what if a character is longer than 8? "
   ]
  },
  {
   "cell_type": "markdown",
   "id": "b6ccb120-892f-41cf-8452-63546f142b4f",
   "metadata": {},
   "source": [
    "* What happens if you run this? Give it a try. "
   ]
  },
  {
   "cell_type": "code",
   "execution_count": null,
   "id": "50fd8e2e-94cc-4a42-a5e1-d1602347604c",
   "metadata": {},
   "outputs": [],
   "source": [
    "DATA Height_and_Weight;\n",
    "INPUT ID Name $ Height Weight;\n",
    "DATALINES;\n",
    "53 Susie 42 41\n",
    "54 Charlie 46 55\n",
    "55 Calvin 40 35\n",
    "56 Lucy 46 52\n",
    ";\n",
    "RUN;"
   ]
  },
  {
   "cell_type": "markdown",
   "id": "ea1585fe-5b08-41cc-9dea-4fd2f2c750bc",
   "metadata": {},
   "source": [
    "* We can specify the length before you make the list input. Try to read the following data using similar code and see what goes wrong. "
   ]
  },
  {
   "cell_type": "code",
   "execution_count": null,
   "id": "14ba8c7c-7bcf-4c37-94de-2ff70b7f84a0",
   "metadata": {},
   "outputs": [],
   "source": [
    "53 Susie 42 41\n",
    "54 Charlie 46 55\n",
    "55 Calvin 40 35\n",
    "56 Lucy 46 52\n",
    "57 Christopher 50 52"
   ]
  },
  {
   "cell_type": "code",
   "execution_count": null,
   "id": "871bca2e-0d63-4d2e-b475-3de51bfde96c",
   "metadata": {},
   "outputs": [],
   "source": [
    "DATA Height_and_Weight;\n",
    "LENGTH Name $12;\n",
    "INPUT ID Name $ Height Weight;\n",
    "DATALINES;\n",
    "53 Susie 42 41\n",
    "54 Charlie 46 55\n",
    "55 Calvin 40 35\n",
    "56 Lucy 46 52\n",
    "57 Christopher 50 52\n",
    ";\n",
    "RUN;"
   ]
  },
  {
   "cell_type": "markdown",
   "id": "b70e5dd8-97e3-4a9c-a003-3b4fde2d1c13",
   "metadata": {},
   "source": [
    "* In SAS programs, the attributes of a variable are set when SAS first encounters that variable. So if a LENGTH statement comes before an INPUT statement, then SAS will use that length."
   ]
  },
  {
   "cell_type": "markdown",
   "id": "452087b4-f165-4f87-9496-e9359a626a2a",
   "metadata": {},
   "source": [
    "---"
   ]
  },
  {
   "cell_type": "markdown",
   "id": "688b94af-71dd-40e3-96ff-b02e9b31543c",
   "metadata": {},
   "source": [
    "## The ugly"
   ]
  },
  {
   "cell_type": "markdown",
   "id": "57b18286-9d87-4f31-ba93-6442f1e06849",
   "metadata": {},
   "source": [
    "* What if the data are not in standard format?\n",
    "<center><font size=\"+2\">We need to specify the <b>informat</b>!</font></center>\n",
    "\n",
    "<center>In other words, we need to tell SAS how each variable is formated in the raw data. </center>\n",
    "\n",
    "* For example,\n",
    "    * \"$10.\" Character informat\n",
    "    * \"3.\" Numeric informat\n",
    "    * \"MMDDYY10.\" Date informat\n",
    "* As you can see, they all end with a number and a period.\n",
    "* Informat tells SAS the format you input; Format tells SAS the format you want the output. \n",
    "* We can always be very explicit about the data you are loading. That is, regardless if you actually need to, just specify those informats. \n",
    "    * This is called formatted input.\n",
    "    * The columns read for each variable are determined by the starting point and the width of the informat.\n",
    "        * This means the space delimiter is ignored. \n",
    "        * SAS always starts with the first column. "
   ]
  },
  {
   "cell_type": "markdown",
   "id": "ae6b45ab-fb7c-48b9-9d6b-c142380c7fa9",
   "metadata": {},
   "source": [
    "## Complexity 2: Use Informat"
   ]
  },
  {
   "cell_type": "markdown",
   "id": "299fdeed-c85d-4d09-90dc-8fae60c41ace",
   "metadata": {},
   "source": [
    "* Try this:"
   ]
  },
  {
   "cell_type": "code",
   "execution_count": null,
   "id": "31b3e828-0764-49be-a4dd-810ce1cfe60f",
   "metadata": {},
   "outputs": [],
   "source": [
    "DATA contest;\n",
    "INPUT Name $16. Age 2. Type $1. Date $10. Score1 4.1 Score2 4.1 Score3 4.1;\n",
    "DATALINES;\n",
    "Alicia Grossman  13 c 10-28-2020 7.8 6.5 7.2\n",
    "Matthew Lee      9  D 10-30-2020 6.5 5.9 6.8\n",
    "Elizabeth Garcia 10 C 10-29-2020 8.9 7.9 8.5\n",
    "Lori Newcombe    6  D 10-30-2020 6.7 4.9\n",
    "Jose Martinez    7  d 10-31-2020 8.9 9.5 10.0\n",
    "Brian Williams   11 C 10-29-2020 7.8 8.4 8.5\n",
    ";\n",
    "RUN;\n",
    "\n",
    "proc print data = contest;\n",
    "run;"
   ]
  },
  {
   "cell_type": "markdown",
   "id": "e1defaf8-be4c-46ce-baec-6cb5feabb3fc",
   "metadata": {},
   "source": [
    "* What's wrong? \n",
    "* How can you adjust to fix?"
   ]
  },
  {
   "cell_type": "code",
   "execution_count": null,
   "id": "5ac70da6-fa65-46e3-a20d-40ccca849f8a",
   "metadata": {},
   "outputs": [],
   "source": [
    "DATA contest;\n",
    "INPUT Name $16. +1 Age 2. +1 Type $1. +1 Date MMDDYY10. (Score1 Score2 Score3) (4.1);\n",
    "DATALINES;\n",
    "Alicia Grossman  13 c 10-28-2020 7.8 6.5 7.2\n",
    "Matthew Lee      9  D 10-30-2020 6.5 5.9 6.8\n",
    "Elizabeth Garcia 10 C 10-29-2020 8.9 7.9 8.5\n",
    "Lori Newcombe    6  D 10-30-2020 6.7 4.9\n",
    "Jose Martinez    7  d 10-31-2020 8.9 9.5 10.0\n",
    "Brian Williams   11 C 10-29-2020 7.8 8.4 8.5\n",
    ";\n",
    "RUN;\n",
    "\n",
    "proc print data = contest;\n",
    "run;"
   ]
  },
  {
   "cell_type": "markdown",
   "id": "183b8895-a9b2-4622-aa96-e7dfbc8ebf93",
   "metadata": {},
   "source": [
    "## Complexity 3: Use the pointer @"
   ]
  },
  {
   "cell_type": "markdown",
   "id": "64b94c14-8f8f-49e4-91d6-9c509a04e425",
   "metadata": {},
   "source": [
    "* Try this to read this: "
   ]
  },
  {
   "cell_type": "code",
   "execution_count": null,
   "id": "c8e8abc8-88be-47fa-8495-5bbbdc57c8bf",
   "metadata": {},
   "outputs": [],
   "source": [
    "Yellowstone           ID/MT/WY 1872     4,065,493\n",
    "Everglades            FL 1934           1,398,800\n",
    "Yosemite              CA 1864           760,917\n",
    "Great Smoky Mountains NC/TN 1926        520,269\n",
    "Wolf Trap Farm        VA 1966           130"
   ]
  },
  {
   "cell_type": "code",
   "execution_count": null,
   "id": "39c75d90-507e-4d89-bb60-eef995840831",
   "metadata": {},
   "outputs": [],
   "source": [
    "DATA nationalparks;\n",
    "INPUT ParkName $ 1-22 State $ Year @40 Acreage COMMA9.;\n",
    "datalines;\n",
    "Yellowstone           ID/MT/WY 1872     4,065,493\n",
    "Everglades            FL 1934           1,398,800\n",
    "Yosemite              CA 1864           760,917\n",
    "Great Smoky Mountains NC/TN 1926        520,269\n",
    "Wolf Trap Farm        VA 1966           130\n",
    ";\n",
    "run;"
   ]
  },
  {
   "cell_type": "markdown",
   "id": "be75b0e8-55ee-4c12-8ae7-d42cf8b30f3a",
   "metadata": {},
   "source": [
    "* What are these?\n",
    "    * **INPUT ParkName \\\\$ 1-22 State \\\\$ Year @40 Acreage COMMA9.;**\n",
    "    * **ParkName** First variable is the ParkName\n",
    "    * **\\$** ParkName is a character\n",
    "    * **1-22** ParkName is read from 1 to 22. \n",
    "    * **State** Second variable is the State\n",
    "    * **\\$** State is a character\n",
    "    * **Year** Third variable is Year\n",
    "    * **@40** Move the pointer to the 40th character\n",
    "    * **Acreage** Fourth variable is Acreage\n",
    "    * **COMMA9.** Informat is COMMA9.; it is a numeric informat. "
   ]
  },
  {
   "cell_type": "markdown",
   "id": "b06848bc-340b-4428-bbf2-0434c64dc8c0",
   "metadata": {},
   "source": [
    "## Complexity 4: More disorganized raw data needs more tools"
   ]
  },
  {
   "cell_type": "markdown",
   "id": "b40995ca-b3ca-409e-baa9-b658fbf4d299",
   "metadata": {},
   "source": [
    "* If you look at the data we have been reading, observations in each column are usually well aligned or they have consistent relative position each row (For example, the values of two adjacent variables are always separated by exactly 1 space). \n",
    "* Sometimes you need to read data that just don't line up in nice columns or have predictable lengths. When you have these types of messy files, ordinary list, column, or formatted input simply aren't enough. \n",
    "    * @'character' column pointer: move the pointer to a particular character. \n",
    "    * colon modifiers: tells SAS to read a data value until it reaches a space.\n",
    "    * ampersand modifiers: tells SAS to read a data value until it reaches two or more spaces in a row"
   ]
  },
  {
   "cell_type": "markdown",
   "id": "27e2a4e5-b0f8-4450-aa24-dea58762dbd8",
   "metadata": {},
   "source": [
    "* If the data looks like this, Can you try to load it without using these? \n",
    "* Apparently School and Time should be the column names. Just give it a try using what we have used so far. "
   ]
  },
  {
   "cell_type": "code",
   "execution_count": null,
   "id": "e2ed2365-59bb-45ef-b9b1-411336e6123b",
   "metadata": {},
   "outputs": [],
   "source": [
    "Bellatorum School CSULA Time 1:40.5\n",
    "The Kraken School ASU Time 1:45.35\n",
    "Black Widow School UoA Time 1:33.7\n",
    "Koicrete School CSUF Time 1:40.25"
   ]
  },
  {
   "cell_type": "code",
   "execution_count": null,
   "id": "6bb434af-6a48-4dcf-8124-7666d655bc39",
   "metadata": {},
   "outputs": [],
   "source": [
    "DATA contest;\n",
    "INPUT CanoeName & $12. @'School' School $ @'Time' RaceTime :STIMER8.; \n",
    "DATALINES;\n",
    "Bellatorum   School CSULA Time 1:40.5\n",
    "The Kraken   School ASU Time 1:45.35\n",
    "Black Widow   School UoA Time 1:33.7\n",
    "Koicrete   School CSUF Time 1:40.25\n",
    ";\n",
    "RUN;"
   ]
  },
  {
   "cell_type": "markdown",
   "id": "ef9d8959-9bc8-47bf-b83b-455442a8e55e",
   "metadata": {},
   "source": [
    "## Use INFILE and INFILE options"
   ]
  },
  {
   "cell_type": "markdown",
   "id": "25975080-f184-46b4-988d-5f5d307e22ae",
   "metadata": {},
   "source": [
    "* Here are some important INFILE options. We can load files using the infile option. \n",
    "    * **FIRSTOBS =**: Specifies the first observation that SAS processes in a SAS data set.\n",
    "    * **OBS =**: Specifies the last observation that SAS processes in a data set. \n",
    "    * **MISSOVER**: By default, SAS will go to the next data line to read more data if SAS has reached the end of the data line and there are still more variables in the INPUT statement that have not been assigned values. The MISSOVER option tells SAS not to go to the next line of data when it runs out of data. Instead, assign missing values to any remaining variables. The following data file illustrates where this option may be useful. \n",
    "    * **TRUNCOVER**: Its applicable to the last variable; if actual value available in the current record of the external file is shorter than the informat specified, it assigns that ‘Truncated’ value. If it is missing then missing value gets assigned to the variable. DLM: Specify the delimiter\n",
    "    * **DSD**: Delimiter-Sensitive Data option does three things\n",
    "        * ignores delimiters in data values enclosed in quotation marks.\n",
    "        * does not read quotation marks as part of the data value.\n",
    "        * it treats two delimiters in a row as a missing value."
   ]
  },
  {
   "cell_type": "markdown",
   "id": "4966fbfb-358a-4da7-b8b2-eb3893d4482d",
   "metadata": {},
   "source": [
    "* **MISSOVER** and **TRUNCOVER** can get confusing. There are more options that can be more confusing. Here is an article explaining these data set options. \n",
    "    * __[https://support.sas.com/resources/papers/proceedings/proceedings/sugi26/p009-26.pdf](https://support.sas.com/resources/papers/proceedings/proceedings/sugi26/p009-26.pdf)__"
   ]
  },
  {
   "cell_type": "markdown",
   "id": "a70dbce6-28b4-4cd8-be9a-171d7a5abd44",
   "metadata": {},
   "source": [
    "### MISSOVER"
   ]
  },
  {
   "cell_type": "markdown",
   "id": "32173bf0-fde7-451c-99b1-d1610bc6c385",
   "metadata": {},
   "source": [
    "* Try this with and without the MISSOVER option and see the difference. "
   ]
  },
  {
   "cell_type": "code",
   "execution_count": null,
   "id": "5e6000ec-4870-4be3-b683-dd3e131c632f",
   "metadata": {},
   "outputs": [],
   "source": [
    "DATA class102;\n",
    "INFILE DATALINES MISSOVER;\n",
    "INPUT Name $ Test1 Test2 Test3 Test4 Test5;\n",
    "datalines;\n",
    "Nguyen 89 76 91 82\n",
    "Ramos 67 72 80 76 86\n",
    "Robbins 76 65 79\n",
    ";\n",
    "RUN;"
   ]
  },
  {
   "cell_type": "markdown",
   "id": "46c5e690-566f-48ed-a1e9-f69cabc3398c",
   "metadata": {},
   "source": [
    "### Read Delimited Files"
   ]
  },
  {
   "cell_type": "markdown",
   "id": "d6797cb2-ac83-46ff-966a-10852a38316a",
   "metadata": {},
   "source": [
    "* Try this. Anything wrong?"
   ]
  },
  {
   "cell_type": "code",
   "execution_count": null,
   "id": "72e6e6a4-6b5b-42fd-9468-c8435eae2da8",
   "metadata": {},
   "outputs": [],
   "source": [
    "DATA music;\n",
    "INFILE DATALINES;\n",
    "INPUT BandName :$30. EightPM NinePM TenPM ElevenPM;\n",
    "datalines;\n",
    "Lupine Lights,45,63,70,\n",
    "Awesome Octaves,17,28,44,12\n",
    "\"Stop, Drop, and Rock-N-Roll\",34,62,77,91\n",
    "The Silveyville Jazz Quartet,38,30,42,43\n",
    "Catalina Converts,56,,65,34\n",
    ";\n",
    "RUN;"
   ]
  },
  {
   "cell_type": "markdown",
   "id": "a6732af2-aa09-4888-bc36-b3dcaf555e41",
   "metadata": {},
   "source": [
    "* It seems SAS does not know this file is delimited by commas. Let's try again with the DLM = otpion. "
   ]
  },
  {
   "cell_type": "code",
   "execution_count": null,
   "id": "bc9a62f6-1060-45ac-a9f2-d9bb7b59c5c8",
   "metadata": {},
   "outputs": [],
   "source": [
    "DATA music;\n",
    "INFILE DATALINES DLM = ',';\n",
    "INPUT BandName :$30. EightPM NinePM TenPM ElevenPM;\n",
    "datalines;\n",
    "Lupine Lights,45,63,70,\n",
    "Awesome Octaves,17,28,44,12\n",
    "\"Stop, Drop, and Rock-N-Roll\",34,62,77,91\n",
    "The Silveyville Jazz Quartet,38,30,42,43\n",
    "Catalina Converts,56,,65,34\n",
    ";\n",
    "RUN;"
   ]
  },
  {
   "cell_type": "markdown",
   "id": "d5e7f4b9-c8eb-441a-b19b-ca6957541d7c",
   "metadata": {},
   "source": [
    "* Anything wrong? "
   ]
  },
  {
   "cell_type": "markdown",
   "id": "1bd2e3a9-6c4f-40b7-aa1b-69131081b66a",
   "metadata": {},
   "source": [
    "* It seems in the 3rd row, SAS takes the first comma after Stop as a delimiter. Let's try again with the DSD option. "
   ]
  },
  {
   "cell_type": "code",
   "execution_count": null,
   "id": "ea491f2a-ada9-44d8-9c8c-b15696275df8",
   "metadata": {},
   "outputs": [],
   "source": [
    "DATA music;\n",
    "INFILE DATALINES DLM = ',' DSD;\n",
    "INPUT BandName :$30. EightPM NinePM TenPM ElevenPM;\n",
    "datalines;\n",
    "Lupine Lights,45,63,70,\n",
    "Awesome Octaves,17,28,44,12\n",
    "\"Stop, Drop, and Rock-N-Roll\",34,62,77,91\n",
    "The Silveyville Jazz Quartet,38,30,42,43\n",
    "Catalina Converts,56,,65,34\n",
    ";\n",
    "RUN;"
   ]
  },
  {
   "cell_type": "markdown",
   "id": "42f713f1-9fdf-4a0c-a902-782152b62251",
   "metadata": {},
   "source": [
    "* Let's try again, but with the MISSOVER option this time. "
   ]
  },
  {
   "cell_type": "code",
   "execution_count": null,
   "id": "7f3820e3-b610-407b-9b69-6e37b8a492a7",
   "metadata": {},
   "outputs": [],
   "source": [
    "DATA music;\n",
    "INFILE DATALINES DLM = ',' MISSOVER;\n",
    "INPUT BandName :$30. EightPM NinePM TenPM ElevenPM;\n",
    "datalines;\n",
    "Lupine Lights,45,63,70,\n",
    "Awesome Octaves,17,28,44,12\n",
    "\"Stop, Drop, and Rock-N-Roll\",34,62,77,91\n",
    "The Silveyville Jazz Quartet,38,30,42,43\n",
    "Catalina Converts,56,,65,34\n",
    ";\n",
    "RUN;"
   ]
  }
 ],
 "metadata": {
  "kernelspec": {
   "display_name": "SAS",
   "language": "sas",
   "name": "sas"
  },
  "language_info": {
   "codemirror_mode": "sas",
   "file_extension": ".sas",
   "mimetype": "text/x-sas",
   "name": "sas"
  }
 },
 "nbformat": 4,
 "nbformat_minor": 5
}
