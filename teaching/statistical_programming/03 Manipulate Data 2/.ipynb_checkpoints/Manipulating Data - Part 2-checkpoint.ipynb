{
 "cells": [
  {
   "cell_type": "markdown",
   "id": "a235fbec-55e0-43db-ba6e-ded3b78d51b5",
   "metadata": {},
   "source": [
    "# Manipulating Data - Part 2"
   ]
  },
  {
   "cell_type": "markdown",
   "id": "5b14ff19-92b1-49b9-93bf-7a38e36b8b84",
   "metadata": {},
   "source": [
    "* We will go over some more important topics in data manipulations.\n",
    "* We will primarily go over how to sort, merge, and transpose data.\n",
    "* Even more important, we will introduce a very powerful tool called PROC SQL."
   ]
  },
  {
   "cell_type": "markdown",
   "id": "c994b0ab-7363-47a4-99db-a1742fa795b3",
   "metadata": {},
   "source": [
    "## The PROC"
   ]
  },
  {
   "cell_type": "markdown",
   "id": "71ce60e5-a5b6-4e1f-9ba2-d1bf52b5cdb6",
   "metadata": {},
   "source": [
    "* Before we start talking about these things, we need to know more about the PROC. \n",
    "* The PROC step consists of a group of SAS statements that call and execute a procedure, usually with a SAS data set as input.\n",
    "    * Use PROCs to analyze the data in a SAS data set, produce formatted reports or other results, or provide ways to manage SAS files.\n",
    "    * You can modify PROCs with minimal effort to generate the output that you need.\n",
    "    * PROCs can also perform functions, such as displaying information about a SAS data set.\n",
    "* The output from a PROC step can provide univariate descriptive statistics, frequency tables, crosstabulation tables, tabular reports consisting of descriptive statistics, charts, plots, and so on.\n",
    "    * Output can also be in the form of an updated data set.\n",
    "* Because PROC usually operates on a data set, we usually need specify a data = statement. For example, \n"
   ]
  },
  {
   "cell_type": "code",
   "execution_count": null,
   "id": "17c6084b-d416-4bcc-9bd4-1d0e9e89b62f",
   "metadata": {},
   "outputs": [],
   "source": [
    "PROC CONTENTS DATA = SASHELP.CARS;\n",
    "RUN;"
   ]
  },
  {
   "cell_type": "markdown",
   "id": "d3f4b221-1bf5-432d-9324-16fa61a54171",
   "metadata": {},
   "source": [
    "* This will yield an HTML page as output. These outputs are actually also tables. You can use ODS ouput to read these numbers. More later. "
   ]
  },
  {
   "cell_type": "markdown",
   "id": "27cad1ea-69f4-4b9e-b1cd-b2d14d560a0d",
   "metadata": {},
   "source": [
    "## Sort Data"
   ]
  },
  {
   "cell_type": "markdown",
   "id": "286fea79-3a9e-4c41-a804-d11e37e2a68e",
   "metadata": {},
   "source": [
    "* To sort data, we need to use PROC SORT. Let's try to use SASHELP.CARS as an example. "
   ]
  },
  {
   "cell_type": "code",
   "execution_count": null,
   "id": "25ffbaf3-017f-4303-abf3-a534ad580be1",
   "metadata": {},
   "outputs": [],
   "source": [
    "DATA CARS; /* I have to create a copy of this because I am not allowed to change the data in the SASHELP library */\n",
    "    SET SASHELP.CARS;\n",
    "RUN;\n",
    "\n",
    "PROC SORT DATA = CARS;\n",
    "    BY Make;\n",
    "RUN;\n",
    "\n",
    "PROC SORT DATA = CARS;\n",
    "    BY Type;\n",
    "RUN;\n",
    "\n",
    "PROC SORT DATA = CARS;\n",
    "    BY Make Type;\n",
    "RUN;"
   ]
  },
  {
   "cell_type": "markdown",
   "id": "5258481c-f407-47c9-800d-a7ef965efc80",
   "metadata": {},
   "source": [
    "* We can change add some options to achieve more functions in the sort. For example, if I want to keep a copy of the original data but put the sorted data in another file, we can use the OUT = option. "
   ]
  },
  {
   "cell_type": "code",
   "execution_count": null,
   "id": "93b02f93-4e41-4e45-b3a9-f783c1e01daa",
   "metadata": {},
   "outputs": [],
   "source": [
    "PROC SORT DATA = SASHELP.CARS OUT = CARS_SORTED;\n",
    "    BY Make Type;\n",
    "RUN;"
   ]
  },
  {
   "cell_type": "markdown",
   "id": "95546caf-cca7-4470-957d-b4f0677adc5a",
   "metadata": {},
   "source": [
    "## Subsetting Data using ***DATA SET OPTION***"
   ]
  },
  {
   "cell_type": "markdown",
   "id": "b982a85f-ec52-45f1-bcc4-e27c2b94b533",
   "metadata": {},
   "source": [
    "* We can subset the data using ***data set options***.  \n",
    "    * ***(OBS = 10)*** is also a data set option. \n",
    "* Let's say we want to sort and output the DriveTrain = All and MSRP less than $30,000."
   ]
  },
  {
   "cell_type": "code",
   "execution_count": null,
   "id": "f69fefcf-7412-460e-aaa2-ec1eb720344e",
   "metadata": {},
   "outputs": [],
   "source": [
    "PROC SORT DATA = SASHELP.CARS (where = (DriveTrain = \"All\" and MSRP <= 30000)) OUT = CARS_SORTED;\n",
    "    BY Make Type;\n",
    "RUN;"
   ]
  },
  {
   "cell_type": "markdown",
   "id": "fc9db057-0615-4532-ad03-9f255ff38302",
   "metadata": {},
   "source": [
    "* We can also subset columns using keep or drop. Let's say we want to only keep these four columns: Make Model MSRP Origin"
   ]
  },
  {
   "cell_type": "code",
   "execution_count": null,
   "id": "91b5e9b1-8295-4895-8a87-53a3b89a9e77",
   "metadata": {},
   "outputs": [],
   "source": [
    "PROC SORT DATA = SASHELP.CARS (where = (DriveTrain = \"All\" and MSRP <= 30000)) OUT = CARS_SORTED (keep = Make Model MSRP Origin);\n",
    "    BY Make Type;\n",
    "RUN;"
   ]
  },
  {
   "cell_type": "markdown",
   "id": "c4e53a9f-3f2b-4ae5-8dce-e142eaf58dd7",
   "metadata": {},
   "source": [
    "* Why do I put where = and keep = behind different data sets? Let's put them behind one data and see what happens. "
   ]
  },
  {
   "cell_type": "code",
   "execution_count": null,
   "id": "77ab8c8b-3e02-4d10-b8e9-f6de6966260f",
   "metadata": {},
   "outputs": [],
   "source": [
    "PROC SORT DATA = SASHELP.CARS (keep = Make Model MSRP Origin where = (DriveTrain = \"All\" and MSRP <= 30000)) OUT = CARS_SORTED;\n",
    "    BY Make Type;\n",
    "RUN;"
   ]
  },
  {
   "cell_type": "markdown",
   "id": "fa17dc5a-1745-41dd-9c2d-55f604363fc4",
   "metadata": {},
   "source": [
    "* Can you think about what the reported error means? \n",
    "* Why do you think the error is reported? "
   ]
  },
  {
   "cell_type": "markdown",
   "id": "dbb46ec4-e450-4ad5-97a1-0c4faca58140",
   "metadata": {},
   "source": [
    "* What if we try these?"
   ]
  },
  {
   "cell_type": "code",
   "execution_count": null,
   "id": "c5859c10-117a-48a4-9a61-71ed03f62829",
   "metadata": {},
   "outputs": [],
   "source": [
    "PROC SORT DATA = SASHELP.CARS (where = (DriveTrain = \"All\" and MSRP <= 30000) keep = Make Model MSRP Origin) OUT = CARS_SORTED;\n",
    "    BY Make Type;\n",
    "RUN;"
   ]
  },
  {
   "cell_type": "code",
   "execution_count": null,
   "id": "ad19a26a-455a-435e-b1d7-9ae0b50d9c83",
   "metadata": {},
   "outputs": [],
   "source": [
    "PROC SORT DATA = SASHELP.CARS (keep = Make Model MSRP Origin) OUT = CARS_SORTED;\n",
    "    BY Make Type;\n",
    "    where DriveTrain = \"All\" and MSRP <= 30000;\n",
    "RUN;"
   ]
  },
  {
   "cell_type": "markdown",
   "id": "598d0221-e10a-4d35-9bae-da7e7ec63a17",
   "metadata": {},
   "source": [
    "* As you can see, ***DATA SET OPTIONS*** can be pretty versatile.\n",
    "* It will be come very handy really soon. With data set options, we can make the code shorter and are less likely to make mistakes. "
   ]
  },
  {
   "cell_type": "markdown",
   "id": "a3012afe-3179-4b5f-8770-0f0643806e6b",
   "metadata": {},
   "source": [
    "* Sorting data can be slow, but it is crucial to a lot of operations in SAS. For example, let's print CARS_SORTED as an output. When you run the following code, you should be able to see the output window. "
   ]
  },
  {
   "cell_type": "code",
   "execution_count": null,
   "id": "eeb3bdf6-b1a0-4237-bbbf-025b7a7168cb",
   "metadata": {},
   "outputs": [],
   "source": [
    "PROC SORT DATA = SASHELP.CARS (where = (DriveTrain = \"All\" and MSRP <= 30000)) OUT = CARS_SORTED (keep = Make Model MSRP Origin);\n",
    "    BY Make Type;\n",
    "RUN;\n",
    "\n",
    "PROC PRINT DATA = CARS_SORTED;\n",
    "RUN;"
   ]
  },
  {
   "cell_type": "markdown",
   "id": "48992b77-7f58-4491-b281-62931b7a710a",
   "metadata": {},
   "source": [
    "* Now, I want to print the resulting data and group by each origin of the car. What can we do? \n",
    "* We can use the BY statement in PROC PRINT. BY statement tells the PROC to process things by group. \n",
    "* To use the BY statement, the data must be sorted by the group variable. Try the following. "
   ]
  },
  {
   "cell_type": "code",
   "execution_count": null,
   "id": "2773293c-cd56-452a-aba0-c04eb1bad008",
   "metadata": {},
   "outputs": [],
   "source": [
    "PROC SORT DATA = SASHELP.CARS (where = (DriveTrain = \"All\" and MSRP <= 30000)) OUT = CARS_SORTED (keep = Make Model MSRP Origin);\n",
    "    BY Make Type;\n",
    "RUN;\n",
    "\n",
    "PROC PRINT DATA = CARS_SORTED;\n",
    "    BY Origin; /* <--- The BY statement */\n",
    "RUN;"
   ]
  },
  {
   "cell_type": "markdown",
   "id": "9db69ff1-32b1-46c6-88fc-219bb9ae8598",
   "metadata": {},
   "source": [
    "* You should see an error saying the data is not sorted. How can we address this issue?\n",
    "* So let's sort it properly and the rerun. Try to do it yourself before you look at the code. "
   ]
  },
  {
   "cell_type": "code",
   "execution_count": null,
   "id": "26d44408-4eac-4b7c-bc9b-3d0b1996ade2",
   "metadata": {},
   "outputs": [],
   "source": [
    "PROC SORT DATA = SASHELP.CARS (where = (DriveTrain = \"All\" and MSRP <= 30000)) OUT = CARS_SORTED (keep = Make Model MSRP Origin);\n",
    "    BY Origin;\n",
    "RUN;\n",
    "\n",
    "PROC PRINT DATA = CARS_SORTED;\n",
    "    BY Origin;\n",
    "RUN;"
   ]
  },
  {
   "cell_type": "markdown",
   "id": "78bb14c2-5c19-482a-8a9b-7f2d28a2b80e",
   "metadata": {},
   "source": [
    "## Creating Multiple Data Sets"
   ]
  },
  {
   "cell_type": "markdown",
   "id": "eb3dd723-a1e4-4646-a79c-433075976a9a",
   "metadata": {},
   "source": [
    "* When using DATA steps, we can create multiple data sets at the same time. All we need to do is: "
   ]
  },
  {
   "cell_type": "code",
   "execution_count": null,
   "id": "7832f25d-af14-437b-bdba-9e23781ece70",
   "metadata": {},
   "outputs": [],
   "source": [
    "data sub1 sub2;"
   ]
  },
  {
   "cell_type": "markdown",
   "id": "9bda2b2a-bea0-4594-8be1-afeaa4a14e72",
   "metadata": {},
   "source": [
    "* Because data steps will create data sets first, this will create two data sets. "
   ]
  },
  {
   "cell_type": "markdown",
   "id": "9fbdc584-6389-4f82-bf72-53c0e6ec8972",
   "metadata": {},
   "source": [
    "* Then we need to load rows to the two data sets. "
   ]
  },
  {
   "cell_type": "code",
   "execution_count": null,
   "id": "d4d417cb-bd11-4053-a257-d9ca914311cb",
   "metadata": {},
   "outputs": [],
   "source": [
    "data sub1 sub2;\n",
    "    set SASHELP.CARS;\n",
    "run;"
   ]
  },
  {
   "cell_type": "markdown",
   "id": "731b8066-6d58-449c-b971-702dcd23baaa",
   "metadata": {},
   "source": [
    "* If we run this, we shall get two itentical data sets. Both are the same as SASHELP.CARS;\n",
    "* We can split SASHELP.CARS into sub1 and sub2 using some if conditions.\n",
    "    * For example, how about we want sub1 to contain Asian cars and sub2 to contain all the others?\n",
    "* To achieve this, we will need to use a data step statement called ***OUTPUT***.\n",
    "    * By default, every DATA step contains an implicit OUTPUT statement at the end of each iteration that tells SAS to write observations to the data set or data sets that are being created.\n",
    "    * Placing an explicit OUTPUT statement in a DATA step overrides the automatic output, and SAS adds an observation to a data set only when an explicit OUTPUT statement is executed.\n",
    "    * Once you use an OUTPUT statement to write an observation to any one data set, however, there is no implicit OUTPUT statement at the end of the DATA step. In this situation, a DATA step writes an observation to a data set only when an explicit OUTPUT executes. You can use the OUTPUT statement alone or as part of an IF-THEN or SELECT statement or in DO-loop processing.\n",
    "* Let's look at a couple of examples. \n"
   ]
  },
  {
   "cell_type": "code",
   "execution_count": null,
   "id": "adfb4d21-fdbb-413f-8ff2-97e52b40d3d7",
   "metadata": {},
   "outputs": [],
   "source": [
    "data sub1 sub2; /* <-- Creating 2 data sets */\n",
    "    set SASHELP.CARS; /* <-- Reading obs from SASHELP.CARS */\n",
    "    if Origin = \"Asia\" then OUTPUT sub1;  /* <-- Output Asian cars to sub1 */\n",
    "    else output sub2;  /* <-- Output others to sub2 */\n",
    "run;"
   ]
  },
  {
   "cell_type": "markdown",
   "id": "8a25566e-4cf8-404f-ba99-950a7cbe8270",
   "metadata": {},
   "source": [
    "* We can also use OUTPUT statement to duplicate or triplicate rows. "
   ]
  },
  {
   "cell_type": "code",
   "execution_count": null,
   "id": "bac27cca-0582-44df-845b-f189a6d7042c",
   "metadata": {},
   "outputs": [],
   "source": [
    "data CARs; /* <-- Creating 2 data sets */\n",
    "    set SASHELP.CARS; /* <-- Reading obs from SASHELP.CARS */\n",
    "    output;\n",
    "    output; /* <-- Duplicating */\n",
    "    output; /* <-- Triplicating */\n",
    "run;"
   ]
  },
  {
   "cell_type": "markdown",
   "id": "460b058d-c3e5-4479-a98c-819c492aad8f",
   "metadata": {},
   "source": [
    "* Why is this happenning?\n",
    "    * Recall that SAS DATA steps execute line-by-line and row-by-row.\n",
    "    * In the code above we did the following in order\n",
    "        1. **data CARs;** creates a data called CARS\n",
    "        2. **set SASHELP.CARS;** loads the first observation from SASHELP.CARS\n",
    "        3. **output;** outputs that observation to the new data called CARS\n",
    "        4. **output;** outputs the same observation to the new data because we have not read the 2nd observation yet. \n",
    "        5. **output;** outputs the same observation once more to the new data because we have not read the 2nd observation yet.\n",
    "        6. Go the 2nd observation and redo the 3 output statements.\n",
    "        7. Repeat until the end of the data. "
   ]
  },
  {
   "cell_type": "markdown",
   "id": "85e7be2b-cd8c-47c2-bfad-7b10322e487f",
   "metadata": {},
   "source": [
    "## Merge Data"
   ]
  },
  {
   "cell_type": "markdown",
   "id": "0d690656-b806-4741-8cc7-4a999e20f213",
   "metadata": {},
   "source": [
    "* There are two major ways to merge data - DATA step or PROC SQL.\n",
    "    * You don't need anything else unless when you have to handle large data. "
   ]
  },
  {
   "cell_type": "markdown",
   "id": "fb74509f-2486-4481-a0fc-ed2ed6ea7847",
   "metadata": {},
   "source": [
    "### Merge Data using DATA step"
   ]
  },
  {
   "cell_type": "markdown",
   "id": "4c9bfab2-eccd-40b7-8a03-492f3510262b",
   "metadata": {},
   "source": [
    "#### Base Example"
   ]
  },
  {
   "cell_type": "markdown",
   "id": "4bc1bd49-54b4-4067-9126-015a397ed758",
   "metadata": {},
   "source": [
    "* Load the data"
   ]
  },
  {
   "cell_type": "code",
   "execution_count": null,
   "id": "5bf6408e-0c6a-4a8e-a218-1ea238147118",
   "metadata": {},
   "outputs": [],
   "source": [
    "FILENAME test temp; /* <-- I put the data on github. This little block saves you from downloading the data and uploading the data to SAS ODA */\n",
    "proc http url='https://github.com/xieyutongcn/Statistical_Programming/raw/e89edba9a803dc61f62893f8a6c7d8c8e6a553eb/03/Data_To_Merge.xlsx' method=\"GET\" out=test;\n",
    "run;\n",
    "\n",
    "/* The code below imports each sheet */\n",
    "proc import file=test dbms=xlsx out=USA_CARS replace;\n",
    "getnames=yes;\n",
    "sheet=\"USA_Cars\";\n",
    "run;\n",
    "\n",
    "proc import file=test dbms=xlsx out=Gernam_CARS replace;\n",
    "getnames=yes;\n",
    "sheet=\"German_Cars\";\n",
    "run;\n",
    "\n",
    "proc import file=test dbms=xlsx out=Japan_CARS replace;\n",
    "getnames=yes;\n",
    "sheet=\"Japan_Cars\";\n",
    "run;\n",
    "\n",
    "FILENAME test temp;\n",
    "proc http url='https://github.com/xieyutongcn/Statistical_Programming/raw/main/03/Cars.csv' method=\"GET\" out=test;\n",
    "run;\n",
    "\n",
    "proc import file=test dbms=csv out=CARS replace;\n",
    "getnames=yes;\n",
    "run;\n"
   ]
  },
  {
   "cell_type": "markdown",
   "id": "5d120196-256b-4ed1-80b5-c4dd2421b89a",
   "metadata": {},
   "source": [
    "* Take a look at each data.\n",
    "    * What are the identifying variables?\n",
    "    * What information does each data set contains?\n",
    "    * What are the overlapping columns? What are the unique columns? "
   ]
  },
  {
   "cell_type": "markdown",
   "id": "980122a6-cb6a-4f4a-a1f0-a9875acdbb14",
   "metadata": {},
   "source": [
    "* Let's merge Cars with USA_Cars. "
   ]
  },
  {
   "cell_type": "code",
   "execution_count": null,
   "id": "868a429e-4f55-4f88-a9bc-9d1b77ded195",
   "metadata": {},
   "outputs": [],
   "source": [
    "DATA NEW;\n",
    "    MERGE Cars USA_Cars;\n",
    "    BY ID;\n",
    "RUN;"
   ]
  },
  {
   "cell_type": "markdown",
   "id": "0c4a5216-909b-4c4d-9a29-79e7ef1fb72c",
   "metadata": {},
   "source": [
    "<center><font size=\"+2\">Anything wrong? What do we need to do before using a BY?</font></center>\n",
    "\n",
    "<center><font size=\"+2\">You are right! <b>SORT!</b></font></center>"
   ]
  },
  {
   "cell_type": "code",
   "execution_count": null,
   "id": "d32945ef-80bf-4bce-bcfe-0b9c43e4d9fb",
   "metadata": {},
   "outputs": [],
   "source": [
    "PROC SORT DATA = Cars;\n",
    "    BY ID;\n",
    "RUN;\n",
    "\n",
    "PROC SORT DATA = USA_Cars;\n",
    "    BY ID;\n",
    "RUN;\n",
    "\n",
    "DATA NEW;\n",
    "    MERGE Cars USA_Cars;\n",
    "    BY ID;\n",
    "RUN;"
   ]
  },
  {
   "cell_type": "markdown",
   "id": "d949ec0a-3037-4012-b2f6-6e25e55805f1",
   "metadata": {},
   "source": [
    "* There are a few possibilities for the target data set: \n",
    "    * Keep the observations that appear in both data (***inner join***)\n",
    "    * Keep all the observations that appear in one of the data sets (***left or right join***)\n",
    "    * Keep all observations that appear in both data sets (***full join***)\n",
    "    * Keep all observations from one data set that do not also appear in the other (***exclusion***)\n",
    "* What join was the data we just created? "
   ]
  },
  {
   "cell_type": "markdown",
   "id": "732ba479-0af0-496c-b63a-9fe0732ac180",
   "metadata": {},
   "source": [
    "#### Data set option ***in =***"
   ]
  },
  {
   "cell_type": "markdown",
   "id": "e7ddd979-c9f7-435a-b0e4-7a719712471a",
   "metadata": {},
   "source": [
    "* How do we achieve these different joins? \n",
    "    * We just need to use a data set option **in =**"
   ]
  },
  {
   "cell_type": "code",
   "execution_count": null,
   "id": "e89d539a-aa1f-40b0-8779-c6351370c376",
   "metadata": {},
   "outputs": [],
   "source": [
    "DATA NEW; /* <-- We don't have to sort again because the sort is done. If you do not pass through the data with another proc, the order with be kept. */\n",
    "    MERGE Cars (in = In1) USA_Cars (in = In2);\n",
    "    BY ID;\n",
    "    In1_explicit = In1;\n",
    "    In2_explicit = In2;\n",
    "RUN;"
   ]
  },
  {
   "cell_type": "markdown",
   "id": "6b5f306d-47b2-414a-87a6-c8df7be459f1",
   "metadata": {},
   "source": [
    "* Let's see the data. \n",
    "    * The **in =** option creates two implict variables **In1** and **In2**.\n",
    "        * These are Booleans, which means they are either TRUE of FALSE. \n",
    "    * We use **In1_explicit** and **In2_explicit** to create two columns to show **In1** and **In2**.\n",
    "    * They mark whether an observation is found from the **Data1** and **Data2**.\n",
    "* So to achieve inner, left, right, full or exclusion join, we need to use these two variables. "
   ]
  },
  {
   "cell_type": "markdown",
   "id": "3f8acddb-399d-4301-8f3a-bd05644bfe6b",
   "metadata": {},
   "source": [
    "#### Different Merges with Data Step and ***in =*** Option"
   ]
  },
  {
   "cell_type": "code",
   "execution_count": null,
   "id": "b728a429-9f48-4142-8d20-aaff5d4d2b2a",
   "metadata": {},
   "outputs": [],
   "source": [
    "/* Left Join */ \n",
    "DATA NEW;\n",
    "    MERGE Data1 (in = In1) Data2 (in = In2);\n",
    "    BY ID;\n",
    "    if In1;\n",
    "RUN;"
   ]
  },
  {
   "cell_type": "code",
   "execution_count": null,
   "id": "ecab5ef5-a847-4fe6-921f-131975aa2767",
   "metadata": {},
   "outputs": [],
   "source": [
    "/* Right Join */ \n",
    "DATA NEW;\n",
    "    MERGE Data1 (in = In1) Data2 (in = In2);\n",
    "    BY ID;\n",
    "    if In2;\n",
    "RUN;"
   ]
  },
  {
   "cell_type": "code",
   "execution_count": null,
   "id": "9f24a77a-1507-4cba-a3d2-57124d34a673",
   "metadata": {},
   "outputs": [],
   "source": [
    "/* Intersection (Inner Join) */ \n",
    "DATA NEW;\n",
    "    MERGE Data1 (in = In1) Data2 (in = In2);\n",
    "    BY ID;\n",
    "    if In1 and In2;\n",
    "RUN;"
   ]
  },
  {
   "cell_type": "code",
   "execution_count": null,
   "id": "cb7dbbe1-7dde-4297-9055-c1c5caf6a3a7",
   "metadata": {},
   "outputs": [],
   "source": [
    "/* Exclusion */ \n",
    "DATA NEW;\n",
    "    MERGE Data1 (in = In1) Data2 (in = In2);\n",
    "    BY ID;\n",
    "    if In1 and not In2;\n",
    "RUN;"
   ]
  },
  {
   "cell_type": "markdown",
   "id": "a440ec19-944a-4dec-b7b2-bc0d2521e755",
   "metadata": {},
   "source": [
    "#### Let's Try This\n",
    "\n",
    "* Create a data that gives me all the information of German cars. "
   ]
  },
  {
   "cell_type": "markdown",
   "id": "fe3de369-af28-4cf6-a063-d8c188cb0cd8",
   "metadata": {},
   "source": [
    "#### Calculate a Summary and Merge Back"
   ]
  },
  {
   "cell_type": "markdown",
   "id": "b81855a7-3823-48b0-9e33-cae0c1b60b5e",
   "metadata": {},
   "source": [
    "In some scenarios, we need to add the average of a column to the data. \n",
    "\n",
    "For example, we want to select the data above or below the average. To do so, we need to calculate the average first and then compare each row with the average value. \n",
    "\n",
    "To calculate the average, we can use PROC MEANS and then merge the calculated mean data with the original data."
   ]
  },
  {
   "cell_type": "markdown",
   "id": "3ce7b853-62b0-406e-8247-c26f604629a7",
   "metadata": {},
   "source": [
    "PROC MEANS is another important PROC. It can calculate statistics of numeric variables, such as average (mean), standard deviation, variance, minimum, maximum and so on. \n",
    "\n",
    "So let's spend some time on figuring out how it works. "
   ]
  },
  {
   "cell_type": "code",
   "execution_count": null,
   "id": "d08bdf4e-1fa5-4dd1-836b-4680893dde4d",
   "metadata": {},
   "outputs": [],
   "source": [
    "/* The simplest form of the syntax is like this. */\n",
    "PROC MEANS DATA = SASHELP.CARS;\n",
    "    VAR MSRP;\n",
    "RUN;"
   ]
  },
  {
   "cell_type": "markdown",
   "id": "edc7da38-e369-4cbf-9c32-5098db883167",
   "metadata": {},
   "source": [
    "By default, this will create an HTML output. However, we want a table so that we can merge back. Fortunately, PROC MEANS offers such an option. "
   ]
  },
  {
   "cell_type": "code",
   "execution_count": null,
   "id": "473148da-ce95-48a0-b5be-3b053a45eaf4",
   "metadata": {},
   "outputs": [],
   "source": [
    "PROC MEANS DATA = SASHELP.CARS;\n",
    "    VAR MSRP;\n",
    "    OUTPUT OUT = AVERAGE MEAN = / AUTONAME; /* <-- This is saving all the calculated values in a data called AVERAGE. *//* AUTONAME is an option that specifies the name of the new generated variable. */\n",
    "RUN;\n",
    "\n",
    "/* or */\n",
    "\n",
    "PROC MEANS DATA = SASHELP.CARS;\n",
    "    OUTPUT OUT = AVERAGE MEAN(MSRP) = / AUTONAME;\n",
    "RUN;"
   ]
  },
  {
   "cell_type": "markdown",
   "id": "1099401d-3504-4815-93d0-5a729cc72f69",
   "metadata": {},
   "source": [
    "Both will create the same data and print the output. \n",
    "\n",
    "We don't really need it to print the output because we are trying to get the average. We can specify the **NOPRINT** option. "
   ]
  },
  {
   "cell_type": "code",
   "execution_count": null,
   "id": "4a38a1ea-df88-43d6-ac75-6db9127b485c",
   "metadata": {},
   "outputs": [],
   "source": [
    "PROC MEANS DATA = SASHELP.CARS NOPRINT;\n",
    "    OUTPUT OUT = AVERAGE MEAN(MSRP) = / AUTONAME;\n",
    "RUN;"
   ]
  },
  {
   "cell_type": "markdown",
   "id": "09aaa465-bfb3-4d19-90f3-7997cf2c7af7",
   "metadata": {},
   "source": [
    "Then merge back. "
   ]
  },
  {
   "cell_type": "code",
   "execution_count": null,
   "id": "5bce8289-c164-452c-8d19-24c713e013ff",
   "metadata": {},
   "outputs": [],
   "source": [
    "DATA NEW;\n",
    "    IF _N_ = 1 THEN SET AVERAGE;\n",
    "    SET SASHELP.CARS;\n",
    "RUN;"
   ]
  },
  {
   "cell_type": "markdown",
   "id": "2f7f5a8f-c9c8-416d-b875-1daf8019c6ca",
   "metadata": {},
   "source": [
    "In this DATA step, SASHELP.CARS is the data set with more than one observation (the original data) and AVERAGE is the data set with a single observation (the average). SAS reads SASHELP.CARS in a normal SETvstatement, simply reading the observations in a straightforward way. SAS also reads AVERAGE with a SET statement but only in the first iteration of the DATA step—when the SAS automatic variable _N_ equals 1. (More on this later.) SAS then retains the values of variables from AVERAGE for all observations in new-data-set.\n",
    "\n",
    "This works because variables that are read with a SET statement are automatically retained. Normally, you don't notice this because the retained values are overwritten by the next observation. But in this case the variables from summary-data-set are read once at the first iteration of the DATA step and then retained for all other observations. The effect is similar to a RETAIN statement (more on this later). This technique can be used any time you\n",
    "want to combine a single observation with many observations, without a common variable."
   ]
  },
  {
   "cell_type": "markdown",
   "id": "d5d9cb88-084f-430d-847f-a5d723a17cc0",
   "metadata": {},
   "source": [
    "### PROC SQL and Merge Data using PROC SQL"
   ]
  },
  {
   "cell_type": "markdown",
   "id": "987d432d-78a2-4153-9e28-d76e2f9a0d35",
   "metadata": {},
   "source": [
    "#### Brief Intro of PROC SQL"
   ]
  },
  {
   "cell_type": "markdown",
   "id": "17337ddc-d723-402e-bb3a-bcc2f3b16fc1",
   "metadata": {},
   "source": [
    "* PROC SQL copies the SQL language to SAS.\n",
    "    * Consider PROC SQL as a SAS version of the SQL.\n",
    "        * SQL is a power database management language.\n",
    "* A typical PROC SQL looks like this. "
   ]
  },
  {
   "cell_type": "code",
   "execution_count": null,
   "id": "36bd3d93-cfd4-4f21-9bf9-fb554fcf9479",
   "metadata": {},
   "outputs": [],
   "source": [
    "PROC SQL;\n",
    "    create table new_table as \n",
    "    select distinct a.*, b.*\n",
    "    from old_table1 as a, old_table as b\n",
    "    where a.id = b.id;\n",
    "QUIT;"
   ]
  },
  {
   "cell_type": "markdown",
   "id": "b7d60481-4c6f-4cc2-a8f8-bfcb5db74c5e",
   "metadata": {},
   "source": [
    "* Note that even though this is a long statement, I only have one **;** betwee **PROC SQL;** and **QUIT;**.\n",
    "    * What's between is very similar to the SQL language. \n",
    "* Also note that this statement ends with **QUIT;** not **RUN;**"
   ]
  },
  {
   "cell_type": "markdown",
   "id": "307b5d20-72ee-49dd-aab9-089c14ba2478",
   "metadata": {},
   "source": [
    "We can use PROC SQL to subset data, modify data, create new variables or even calculate complex statistical values. The following code will \n",
    "1. create a data set called **CARS_SORTED** from SASHELP.CARS,\n",
    "2. sort data by Origin\n",
    "3. Keep only Make Model MSRP Origin\n",
    "4. Keep only DriveTrain = All and MSRP no more than 30000\n",
    "5. Calculate the average MSRP for each manufacturer (Make)"
   ]
  },
  {
   "cell_type": "code",
   "execution_count": null,
   "id": "1a4f0b8e-a37d-4426-a4f2-16742a72327f",
   "metadata": {},
   "outputs": [],
   "source": [
    "PROC SQL;\n",
    "    create table CARS_SORTED as \n",
    "    select distinct Make, Model, MSRP, Origin, mean(MSRP) as Average_MSRP\n",
    "    from SASHELP.CARS\n",
    "    where DriveTrain = \"All\" and MSRP <= 30000\n",
    "    group by Make\n",
    "    order by Origin;\n",
    "QUIT;"
   ]
  },
  {
   "cell_type": "markdown",
   "id": "2171de10-9c31-40ca-9355-2d098bb784d5",
   "metadata": {},
   "source": [
    "As you can see, SQL is very powerful. You can even put multiple SQL commands in one PROC SQL statement. The statements will execute in order. "
   ]
  },
  {
   "cell_type": "code",
   "execution_count": null,
   "id": "7f721aa7-d470-4499-a075-83805f590816",
   "metadata": {},
   "outputs": [],
   "source": [
    "PROC SQL;\n",
    "\n",
    "    create table CARS_SORTED as \n",
    "    select distinct Make, Model, MSRP, Origin, mean(MSRP) as Average_MSRP\n",
    "    from SASHELP.CARS\n",
    "    where DriveTrain = \"All\" and MSRP <= 30000\n",
    "    group by Make\n",
    "    order by Origin;\n",
    "\n",
    "    create table CARS_SORTED2 as \n",
    "    select distinct Make, Model, MSRP, Origin, mean(MSRP) as Average_MSRP\n",
    "    from SASHELP.CARS\n",
    "    where DriveTrain = \"All\" and MSRP > 30000\n",
    "    group by Make\n",
    "    order by Origin;\n",
    "\n",
    "QUIT;"
   ]
  },
  {
   "cell_type": "markdown",
   "id": "db5ec69a-afd9-4390-b84d-516c07b6a65f",
   "metadata": {},
   "source": [
    "#### Inner Join"
   ]
  },
  {
   "cell_type": "code",
   "execution_count": null,
   "id": "a75f1b15-6686-4b3f-b24f-421fe9788c71",
   "metadata": {},
   "outputs": [],
   "source": [
    "PROC SQL;\n",
    "Create table dummy as\n",
    "Select * from A Inner Join B\n",
    "on a.ID = b.id;\n",
    "Quit;\n",
    "\n",
    "PROC SQL;\n",
    "Create table dummy as\n",
    "Select * from A Join B\n",
    "on a.ID = b.id;\n",
    "Quit;\n",
    "\n",
    "PROC SQL;\n",
    "Create table dummy as\n",
    "Select * from A, B\n",
    "where a.ID = b.id;\n",
    "Quit;"
   ]
  },
  {
   "cell_type": "markdown",
   "id": "c7068a30-bc9f-4e6e-868c-3fb897af1393",
   "metadata": {},
   "source": [
    "#### Left Join"
   ]
  },
  {
   "cell_type": "code",
   "execution_count": null,
   "id": "7f847b86-3be8-46ac-94df-53d4cc8e97d0",
   "metadata": {},
   "outputs": [],
   "source": [
    "PROC SQL;\n",
    "Create table COMBINED as\n",
    "Select * from A left Join B\n",
    "on a.ID = b.id;\n",
    "Quit;"
   ]
  },
  {
   "cell_type": "markdown",
   "id": "31053eb1-869a-43d2-a39d-59ab95ce5064",
   "metadata": {},
   "source": [
    "#### Right Join"
   ]
  },
  {
   "cell_type": "code",
   "execution_count": null,
   "id": "ff48b0a6-c2da-4f94-a6e1-ffb029d45e2a",
   "metadata": {},
   "outputs": [],
   "source": [
    "PROC SQL;\n",
    "Create table COMBINED as\n",
    "Select * from A right Join B\n",
    "on a.ID = b.id;\n",
    "Quit;"
   ]
  },
  {
   "cell_type": "markdown",
   "id": "130c31ac-cdf0-46b5-b04b-5f01c12bdaef",
   "metadata": {},
   "source": [
    "#### Full Join"
   ]
  },
  {
   "cell_type": "code",
   "execution_count": null,
   "id": "ec5900a0-eebc-464c-a353-8dae13ff202f",
   "metadata": {},
   "outputs": [],
   "source": [
    "PROC SQL;\n",
    "Create table COMBINED as\n",
    "Select * from A full Join B\n",
    "on a.ID = b.id;\n",
    "Quit;"
   ]
  },
  {
   "cell_type": "markdown",
   "id": "8dae7e03-c9d3-4428-af45-61d3c2b2f04e",
   "metadata": {},
   "source": [
    "#### Cross Join"
   ]
  },
  {
   "cell_type": "code",
   "execution_count": null,
   "id": "26f610a4-731f-4888-8f40-a51273b4d2e4",
   "metadata": {},
   "outputs": [],
   "source": [
    "PROC SQL;\n",
    "Create table COMBINED as\n",
    "Select * from A cross Join B;\n",
    "Quit;"
   ]
  },
  {
   "cell_type": "markdown",
   "id": "c9c053de-e0ee-4a51-a664-38fe9643317f",
   "metadata": {},
   "source": [
    "#### Let's Try This\n",
    "* Create a data that gives me all the information of German cars.\n",
    "* Create a column including the average MSRP.\n",
    "* Filter the new data with rows lower than average MSRP. "
   ]
  },
  {
   "cell_type": "markdown",
   "id": "001511f0-0a7f-4459-afce-b70fa1bf5871",
   "metadata": {},
   "source": [
    "### Data Merge Cheat Sheet"
   ]
  },
  {
   "cell_type": "markdown",
   "id": "fd842695-2fe8-43e4-803b-39f89288f965",
   "metadata": {},
   "source": [
    "More can be done. Use this image as a reference. \n",
    "\n",
    "<img src=\"SQLJoins.png\">"
   ]
  },
  {
   "cell_type": "markdown",
   "id": "ae5f8437-4af4-4571-ab59-2ccfcf17f89e",
   "metadata": {},
   "source": [
    "This compares data step merge and SQL merge\n",
    "\n",
    "<img src=\"Merging1.jpg\">\n",
    "\n",
    "<img src=\"Merging2.jpg\">"
   ]
  },
  {
   "cell_type": "markdown",
   "id": "03adc5f2-39ae-408e-b679-20f475f48523",
   "metadata": {},
   "source": [
    "## Reshaping Data"
   ]
  },
  {
   "cell_type": "markdown",
   "id": "cc6e0e15-4109-4c79-8162-c01468f85467",
   "metadata": {},
   "source": [
    "### The Basics"
   ]
  },
  {
   "cell_type": "markdown",
   "id": "3448413c-242d-48e6-95d4-0d1596b8a9db",
   "metadata": {},
   "source": [
    "* To reshape data, we need PROC TRANSPOSE.\n",
    "    * We can also use some data steps tricks to do it, but they will come later. \n",
    "* What do I mean by reshape?\n",
    "    * This example reshapes from ***long*** to ***wide***. \n",
    "\n",
    "<img src=\"TransposeIllustration.jpg\">"
   ]
  },
  {
   "cell_type": "markdown",
   "id": "c5d3f2ce-4bea-46a9-a35a-4fc49efc1232",
   "metadata": {},
   "source": [
    "* Let's see the following simple case to learn the syntax. "
   ]
  },
  {
   "cell_type": "code",
   "execution_count": null,
   "id": "cc44b5a1-4cff-4328-8ae8-5b8d022ffbab",
   "metadata": {},
   "outputs": [],
   "source": [
    "DATA before; /* <-- Loading the data */\n",
    "INFILE DATALINES MISSOVER DSD DLM = \",\";\n",
    "INPUT CityID $ City $ Category $ Count ;\n",
    "datalines;\n",
    "A, New York, Morning, 1006\n",
    "A, New York, Afternoon, 1720\n",
    "A, New York, Evening, 4402\n",
    "B, Chicago, Morning, 4019\n",
    "B, Chicago, Afternoon, 2657\n",
    "B, Chicago, Evening, 2889\n",
    "C, Los Angeles, Morning, 2981\n",
    "C, Los Angeles, Afternoon, 2814\n",
    "C, Los Angeles, Evening, 1015\n",
    ";\n",
    "RUN;\n",
    "\n",
    "PROC TRANSPOSE data = before out = after;\n",
    "run;\n",
    "\n",
    "PROC TRANSPOSE data = before out = after;\n",
    "by CityID;\n",
    "id category;\n",
    "var count;\n",
    "run;\n",
    "\n",
    "PROC PRINT DATA = after;\n",
    "run;\n",
    "\n",
    "PROC TRANSPOSE data = before out = after (drop = _name_); /* _NAME_ saves the name of the variable that's transposed */\n",
    "by CityID City;\n",
    "id category;\n",
    "var count;\n",
    "run;\n",
    "\n",
    "PROC PRINT DATA = after;\n",
    "run;"
   ]
  },
  {
   "cell_type": "markdown",
   "id": "07d8b513-1352-479f-af86-8d0a36b30f8c",
   "metadata": {},
   "source": [
    "* To understand the sytax and the function of each part:\n",
    "    * ***data =***: the data we are transposing\n",
    "    * ***out =***: the data we want\n",
    "    * ***by***: doing the transposing within each by group; the BY variables themselves aren't transposed; this will become the group id in the new data\n",
    "    * ***id***: the new column name\n",
    "    * ***var***: the value we are transposing"
   ]
  },
  {
   "cell_type": "markdown",
   "id": "d0a9dc37-5c9c-4dc1-b2f3-0558b17b52d3",
   "metadata": {},
   "source": [
    "* Let's transpose it back to long"
   ]
  },
  {
   "cell_type": "code",
   "execution_count": null,
   "id": "b2d3755b-ad8c-4bc4-85e2-788dc23a7935",
   "metadata": {},
   "outputs": [],
   "source": [
    "PROC TRANSPOSE data = after out = before_after;\n",
    "run;\n",
    "\n",
    "PROC PRINT DATA = after;\n",
    "run;"
   ]
  },
  {
   "cell_type": "code",
   "execution_count": null,
   "id": "5cf91e35-2929-4233-b66a-ca72034b83fc",
   "metadata": {},
   "outputs": [],
   "source": [
    "PROC TRANSPOSE data = after out = before_after;\n",
    "var morning afternoon evening;\n",
    "by CityID City;\n",
    "run;\n",
    "\n",
    "PROC PRINT DATA = after;\n",
    "run;"
   ]
  },
  {
   "cell_type": "code",
   "execution_count": null,
   "id": "91a67d1f-bd55-45a2-8ad2-5d7f165e735c",
   "metadata": {},
   "outputs": [],
   "source": [
    "PROC TRANSPOSE data = after out = before_after (rename = (col1 = Count _name_ = Category));\n",
    "var morning afternoon evening;\n",
    "by CityID City;\n",
    "run;\n",
    "\n",
    "PROC PRINT DATA = after;\n",
    "run;"
   ]
  },
  {
   "cell_type": "code",
   "execution_count": null,
   "id": "b5de3410-1340-4acc-ad1d-f9befc8af1db",
   "metadata": {},
   "outputs": [],
   "source": [
    "/* This is the complete code */\n",
    "/* This should give use two identifcal data sets - before and before_after */\n",
    "DATA before; /* <-- Loading the data */\n",
    "length City $10. Category $10.;\n",
    "INFILE DATALINES MISSOVER DSD DLM = \",\";\n",
    "INPUT CityID $ City $ Category $ Count ;\n",
    "datalines;\n",
    "A, New York, Morning, 1006\n",
    "A, New York, Afternoon, 1720\n",
    "A, New York, Evening, 4402\n",
    "B, Chicago, Morning, 4019\n",
    "B, Chicago, Afternoon, 2657\n",
    "B, Chicago, Evening, 2889\n",
    "C, Los Angeles, Morning, 2981\n",
    "C, Los Angeles, Afternoon, 2814\n",
    "C, Los Angeles, Evening, 1015\n",
    ";\n",
    "RUN;\n",
    "\n",
    "PROC TRANSPOSE data = before out = after (drop = _name_);\n",
    "by CityID City;\n",
    "id category;\n",
    "var count;\n",
    "run;\n",
    "\n",
    "PROC TRANSPOSE data = after out = before_after (rename = (col1 = Count _name_ = Category));\n",
    "var morning afternoon evening;\n",
    "by CityID City;\n",
    "run;\n",
    "\n",
    "PROC PRINT DATA = before;\n",
    "run;\n",
    "\n",
    "PROC PRINT DATA = before_after;\n",
    "run;"
   ]
  },
  {
   "cell_type": "markdown",
   "id": "b814c84a-d3a9-46d0-abe3-5e5e871e107d",
   "metadata": {},
   "source": [
    "* Try it your self. Try to reshape the long to a wide and then back to long.\n",
    "* Remember, you want to first know what you **have** and what you **want**. "
   ]
  },
  {
   "cell_type": "code",
   "execution_count": null,
   "id": "72defe3b-3a28-4201-81d8-a5d91df80041",
   "metadata": {},
   "outputs": [],
   "source": [
    "/* The following example is a more realistic example that uses a data file having 300 records in long format (50 wide records and six time points). */\n",
    "data long; \n",
    "  input id year inc ; \n",
    "cards; \n",
    " 1 90 66483 \n",
    " 1 91 69146 \n",
    " 1 92 74643 \n",
    " 1 93 79783 \n",
    " 1 94 81710 \n",
    " 1 95 86143 \n",
    " 2 90 17510 \n",
    " 2 91 17947 \n",
    " 2 92 19484 \n",
    " 2 93 20979 \n",
    " 2 94 21268 \n",
    " 2 95 22998 \n",
    " 3 90 57947 \n",
    " 3 91 62964 \n",
    " 3 92 68717 \n",
    " 3 93 70957 \n",
    " 3 94 75198 \n",
    " 3 95 75722 \n",
    " 4 90 64831 \n",
    " 4 91 71060 \n",
    " 4 92 71918 \n",
    " 4 93 72514 \n",
    " 4 94 73100 \n",
    " 4 95 74379 \n",
    " 5 90 18904 \n",
    " 5 91 19949 \n",
    " 5 92 21335 \n",
    " 5 93 22237 \n",
    " 5 94 23829 \n",
    " 5 95 23913 \n",
    " 6 90 32057 \n",
    " 6 91 34770 \n",
    " 6 92 35834 \n",
    " 6 93 37387 \n",
    " 6 94 40899 \n",
    " 6 95 42372 \n",
    " 7 90 60551 \n",
    " 7 91 64869 \n",
    " 7 92 67983 \n",
    " 7 93 70498 \n",
    " 7 94 71253 \n",
    " 7 95 75177 \n",
    " 8 90 16553 \n",
    " 8 91 18189 \n",
    " 8 92 18349 \n",
    " 8 93 19815 \n",
    " 8 94 21739 \n",
    " 8 95 22980 \n",
    " 9 90 32611 \n",
    " 9 91 33465 \n",
    " 9 92 35961 \n",
    " 9 93 36416 \n",
    " 9 94 37183 \n",
    " 9 95 40627 \n",
    "10 90 61379 \n",
    "10 91 66002 \n",
    "10 92 67936 \n",
    "10 93 70513 \n",
    "10 94 74405 \n",
    "10 95 76009 \n",
    "11 90 24065 \n",
    "11 91 24229 \n",
    "11 92 25709 \n",
    "11 93 26121 \n",
    "11 94 26617 \n",
    "11 95 28142 \n",
    "12 90 32975 \n",
    "12 91 36185 \n",
    "12 92 37601 \n",
    "12 93 41336 \n",
    "12 94 43399 \n",
    "12 95 43670 \n",
    "13 90 69548 \n",
    "13 91 71341 \n",
    "13 92 72455 \n",
    "13 93 76552 \n",
    "13 94 80538 \n",
    "13 95 85330 \n",
    "14 90 50274 \n",
    "14 91 53349 \n",
    "14 92 55900 \n",
    "14 93 59375 \n",
    "14 94 61216 \n",
    "14 95 63911 \n",
    "15 90 72011 \n",
    "15 91 73334 \n",
    "15 92 76248 \n",
    "15 93 77724 \n",
    "15 94 78638 \n",
    "15 95 80582 \n",
    "16 90 18911 \n",
    "16 91 20046 \n",
    "16 92 21343 \n",
    "16 93 21630 \n",
    "16 94 22330 \n",
    "16 95 23081 \n",
    "17 90 68841 \n",
    "17 91 75410 \n",
    "17 92 80806 \n",
    "17 93 81327 \n",
    "17 94 81571 \n",
    "17 95 86499 \n",
    "18 90 28099 \n",
    "18 91 30716 \n",
    "18 92 32986 \n",
    "18 93 36097 \n",
    "18 94 39124 \n",
    "18 95 39866 \n",
    "19 90 17302 \n",
    "19 91 18778 \n",
    "19 92 18872 \n",
    "19 93 19884 \n",
    "19 94 20665 \n",
    "19 95 21855 \n",
    "20 90 16291 \n",
    "20 91 16674 \n",
    "20 92 16770 \n",
    "20 93 17182 \n",
    "20 94 17979 \n",
    "20 95 18917 \n",
    "21 90 43244 \n",
    "21 91 46545 \n",
    "21 92 47633 \n",
    "21 93 50744 \n",
    "21 94 54734 \n",
    "21 95 59075 \n",
    "22 90 56393 \n",
    "22 91 59120 \n",
    "22 92 60801 \n",
    "22 93 61404 \n",
    "22 94 63111 \n",
    "22 95 69278 \n",
    "23 90 47347 \n",
    "23 91 49571 \n",
    "23 92 50101 \n",
    "23 93 51345 \n",
    "23 94 56463 \n",
    "23 95 56927 \n",
    "24 90 16076 \n",
    "24 91 17217 \n",
    "24 92 17296 \n",
    "24 93 17900 \n",
    "24 94 18171 \n",
    "24 95 18366 \n",
    "25 90 65906 \n",
    "25 91 69679 \n",
    "25 92 76131 \n",
    "25 93 77676 \n",
    "25 94 81980 \n",
    "25 95 85426 \n",
    "26 90 58586 \n",
    "26 91 61188 \n",
    "26 92 66542 \n",
    "26 93 69267 \n",
    "26 94 71063 \n",
    "26 95 74549 \n",
    "27 90 61674 \n",
    "27 91 66584 \n",
    "27 92 69185 \n",
    "27 93 75193 \n",
    "27 94 78647 \n",
    "27 95 81898 \n",
    "28 90 31673 \n",
    "28 91 31883 \n",
    "28 92 32774 \n",
    "28 93 34485 \n",
    "28 94 36929 \n",
    "28 95 39751 \n",
    "29 90 63412 \n",
    "29 91 67593 \n",
    "29 92 69911 \n",
    "29 93 73092 \n",
    "29 94 80105 \n",
    "29 95 81840 \n",
    "30 90 27684 \n",
    "30 91 28439 \n",
    "30 92 30861 \n",
    "30 93 31406 \n",
    "30 94 32960 \n",
    "30 95 35530 \n",
    "31 90 71873 \n",
    "31 91 76449 \n",
    "31 92 80848 \n",
    "31 93 88691 \n",
    "31 94 94149 \n",
    "31 95 97431 \n",
    "32 90 62177 \n",
    "32 91 63812 \n",
    "32 92 64235 \n",
    "32 93 65703 \n",
    "32 94 69985 \n",
    "32 95 71136 \n",
    "33 90 37684 \n",
    "33 91 38258 \n",
    "33 92 39208 \n",
    "33 93 39489 \n",
    "33 94 39745 \n",
    "33 95 41236 \n",
    "34 90 64013 \n",
    "34 91 66398 \n",
    "34 92 71877 \n",
    "34 93 75610 \n",
    "34 94 76395 \n",
    "34 95 79644 \n",
    "35 90 16011 \n",
    "35 91 16847 \n",
    "35 92 17746 \n",
    "35 93 19123 \n",
    "35 94 19183 \n",
    "35 95 19996 \n",
    "36 90 49215 \n",
    "36 91 52195 \n",
    "36 92 52343 \n",
    "36 93 56365 \n",
    "36 94 58752 \n",
    "36 95 59354 \n",
    "37 90 15774 \n",
    "37 91 16643 \n",
    "37 92 17605 \n",
    "37 93 18781 \n",
    "37 94 18996 \n",
    "37 95 19685 \n",
    "38 90 29106 \n",
    "38 91 31693 \n",
    "38 92 31852 \n",
    "38 93 34505 \n",
    "38 94 35806 \n",
    "38 95 36179 \n",
    "39 90 25147 \n",
    "39 91 26923 \n",
    "39 92 28785 \n",
    "39 93 30987 \n",
    "39 94 34036 \n",
    "39 95 34106 \n",
    "40 90 71978 \n",
    "40 91 79144 \n",
    "40 92 80453 \n",
    "40 93 86580 \n",
    "40 94 95164 \n",
    "40 95 96155 \n",
    "41 90 46166 \n",
    "41 91 47579 \n",
    "41 92 49455 \n",
    "41 93 53849 \n",
    "41 94 56630 \n",
    "41 95 57473 \n",
    "42 90 55810 \n",
    "42 91 59443 \n",
    "42 92 65291 \n",
    "42 93 66065 \n",
    "42 94 69009 \n",
    "42 95 74365 \n",
    "43 90 49642 \n",
    "43 91 50603 \n",
    "43 92 53917 \n",
    "43 93 54858 \n",
    "43 94 58470 \n",
    "43 95 59767 \n",
    "44 90 21348 \n",
    "44 91 22361 \n",
    "44 92 23412 \n",
    "44 93 24038 \n",
    "44 94 24774 \n",
    "44 95 25828 \n",
    "45 90 44361 \n",
    "45 91 48720 \n",
    "45 92 51356 \n",
    "45 93 54927 \n",
    "45 94 56670 \n",
    "45 95 58800 \n",
    "46 90 56509 \n",
    "46 91 60517 \n",
    "46 92 61532 \n",
    "46 93 65077 \n",
    "46 94 69594 \n",
    "46 95 73089 \n",
    "47 90 39097 \n",
    "47 91 40293 \n",
    "47 92 43237 \n",
    "47 93 44809 \n",
    "47 94 48782 \n",
    "47 95 53091 \n",
    "48 90 18685 \n",
    "48 91 19405 \n",
    "48 92 20165 \n",
    "48 93 20316 \n",
    "48 94 22197 \n",
    "48 95 23557 \n",
    "49 90 73103 \n",
    "49 91 76243 \n",
    "49 92 76778 \n",
    "49 93 82734 \n",
    "49 94 86279 \n",
    "49 95 86784 \n",
    "50 90 48129 \n",
    "50 91 49267 \n",
    "50 92 53799 \n",
    "50 93 58768 \n",
    "50 94 63011 \n",
    "50 95 66461 \n",
    "; \n",
    "run; "
   ]
  },
  {
   "cell_type": "code",
   "execution_count": null,
   "id": "6bc01478-ced0-4a8c-8b23-1aa584f82e78",
   "metadata": {},
   "outputs": [],
   "source": [
    "/* Solution is here */\n",
    "proc transpose data=long out=wide prefix=inc;\n",
    "    by id;\n",
    "    id year;\n",
    "    var inc;\n",
    "run;\n",
    "\n",
    "proc print data=wide;\n",
    "run;"
   ]
  },
  {
   "cell_type": "markdown",
   "id": "2428805a-6555-4713-83ba-bbc66640b991",
   "metadata": {},
   "source": [
    "### Transposing Two Variables"
   ]
  },
  {
   "cell_type": "markdown",
   "id": "3955842a-5554-4a13-8794-1054c08f5488",
   "metadata": {},
   "source": [
    "* Just simply PROC TRANSPOSE one-by-one"
   ]
  },
  {
   "cell_type": "code",
   "execution_count": null,
   "id": "9437df84-1883-438f-ba76-c9cff1f7257a",
   "metadata": {},
   "outputs": [],
   "source": [
    "data long; \n",
    "  input famid year faminc spend ; \n",
    "cards; \n",
    "1 96 40000 38000 \n",
    "1 97 40500 39000 \n",
    "1 98 41000 40000 \n",
    "2 96 45000 42000 \n",
    "2 97 45400 43000 \n",
    "2 98 45800 44000 \n",
    "3 96 75000 70000 \n",
    "3 97 76000 71000 \n",
    "3 98 77000 72000 \n",
    "; \n",
    "run ;\n",
    "\n",
    "proc transpose data=long out=widef prefix=faminc;\n",
    "   by famid;\n",
    "   id year;\n",
    "   var faminc;\n",
    "run;\n",
    "\n",
    "proc transpose data=long out=wides prefix=spend;\n",
    "   by famid;\n",
    "   id year;\n",
    "   var spend;\n",
    "run;\n",
    "\n",
    "data wide;\n",
    "    merge widef(drop=_name_) wides(drop=_name_);\n",
    "    by famid;\n",
    "run;\n",
    "\n",
    "proc print data=wide;\n",
    "run;"
   ]
  },
  {
   "cell_type": "markdown",
   "id": "77f818e8-a7e9-4758-b841-2833deffa419",
   "metadata": {},
   "source": [
    "### Numeric and Character Variables"
   ]
  },
  {
   "cell_type": "code",
   "execution_count": null,
   "id": "1d616f2c-ef22-42f2-8737-ca183e664d80",
   "metadata": {},
   "outputs": [],
   "source": [
    "data long5; \n",
    "  length debt $ 3; \n",
    "  input famid year faminc spend debt $ ; \n",
    "cards; \n",
    "1 96 40000 38000 yes \n",
    "1 97 40500 39000 yes \n",
    "1 98 41000 40000 no \n",
    "2 96 45000 42000 yes \n",
    "2 97 45400 43000 no \n",
    "2 98 45800 44000 no \n",
    "3 96 75000 70000 no \n",
    "3 97 76000 71000 no \n",
    "3 98 77000 72000 no \n",
    "; \n",
    "run; \n",
    "\n",
    "proc transpose data=long5 out=widef prefix=faminc;\n",
    "  by famid;\n",
    "  id year;\n",
    "  var faminc;\n",
    "run;\n",
    "\n",
    "proc transpose data=long5 out=wides prefix=spend;\n",
    "  by famid;\n",
    "  id year;\n",
    "  var spend;\n",
    "run;\n",
    "\n",
    "proc transpose data=long5 out=wided prefix=debt;\n",
    "  by famid;\n",
    "  id year;\n",
    "  var debt;\n",
    "run;\n",
    "\n",
    "data wide5 ;\n",
    "  merge widef (drop=_name_) wides (drop =_name_) wided (drop=_name_);\n",
    "  by famid ;\n",
    "run;\n",
    "\n",
    "proc print data=wide5;\n",
    "run;"
   ]
  }
 ],
 "metadata": {
  "kernelspec": {
   "display_name": "SAS",
   "language": "sas",
   "name": "sas"
  },
  "language_info": {
   "codemirror_mode": "sas",
   "file_extension": ".sas",
   "mimetype": "text/x-sas",
   "name": "sas"
  }
 },
 "nbformat": 4,
 "nbformat_minor": 5
}
