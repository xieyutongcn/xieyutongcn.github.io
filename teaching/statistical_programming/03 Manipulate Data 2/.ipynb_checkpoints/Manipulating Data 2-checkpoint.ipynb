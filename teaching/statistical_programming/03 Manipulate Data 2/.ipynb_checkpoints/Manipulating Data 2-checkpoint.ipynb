{
 "cells": [
  {
   "cell_type": "markdown",
   "id": "a235fbec-55e0-43db-ba6e-ded3b78d51b5",
   "metadata": {},
   "source": [
    "# Manipulating Data - Part 2"
   ]
  },
  {
   "cell_type": "markdown",
   "id": "5b14ff19-92b1-49b9-93bf-7a38e36b8b84",
   "metadata": {},
   "source": [
    "* We will go over some more important topics in data manipulations.\n",
    "* We will primarily go over how to sort, merge, and transpose data.\n",
    "* Even more important, we will introduce a very powerful tool called PROC SQL."
   ]
  },
  {
   "cell_type": "markdown",
   "id": "c994b0ab-7363-47a4-99db-a1742fa795b3",
   "metadata": {},
   "source": [
    "## The PROC"
   ]
  },
  {
   "cell_type": "markdown",
   "id": "71ce60e5-a5b6-4e1f-9ba2-d1bf52b5cdb6",
   "metadata": {},
   "source": [
    "* Before we start talking about these things, we need to know more about the PROC. \n",
    "* The PROC step consists of a group of SAS statements that call and execute a procedure, usually with a SAS data set as input.\n",
    "    * Use PROCs to analyze the data in a SAS data set, produce formatted reports or other results, or provide ways to manage SAS files.\n",
    "    * You can modify PROCs with minimal effort to generate the output that you need.\n",
    "    * PROCs can also perform functions, such as displaying information about a SAS data set.\n",
    "* The output from a PROC step can provide univariate descriptive statistics, frequency tables, crosstabulation tables, tabular reports consisting of descriptive statistics, charts, plots, and so on.\n",
    "    * Output can also be in the form of an updated data set.\n",
    "* Because PROC usually operates on a data set, we usually need specify a data = statement. For example, \n"
   ]
  },
  {
   "cell_type": "code",
   "execution_count": null,
   "id": "17c6084b-d416-4bcc-9bd4-1d0e9e89b62f",
   "metadata": {},
   "outputs": [],
   "source": [
    "PROC CONTENTS DATA = SASHELP.CARS;\n",
    "RUN;"
   ]
  },
  {
   "cell_type": "markdown",
   "id": "d3f4b221-1bf5-432d-9324-16fa61a54171",
   "metadata": {},
   "source": [
    "* This will yield an HTML page as output. These outputs are actually also tables. You can use ODS ouput to read these numbers. More later. "
   ]
  },
  {
   "cell_type": "markdown",
   "id": "27cad1ea-69f4-4b9e-b1cd-b2d14d560a0d",
   "metadata": {},
   "source": [
    "## Sort Data"
   ]
  },
  {
   "cell_type": "markdown",
   "id": "286fea79-3a9e-4c41-a804-d11e37e2a68e",
   "metadata": {},
   "source": [
    "* To sort data, we need to use PROC SORT. Let's try to use SASHELP.CARS as an example. "
   ]
  },
  {
   "cell_type": "code",
   "execution_count": null,
   "id": "25ffbaf3-017f-4303-abf3-a534ad580be1",
   "metadata": {},
   "outputs": [],
   "source": [
    "DATA CARS; /* I have to create a copy of this because I am not allowed to change the data in the SASHELP library */\n",
    "    SET SASHELP.CARS;\n",
    "RUN;\n",
    "\n",
    "PROC SORT DATA = CARS;\n",
    "    BY Make;\n",
    "RUN;\n",
    "\n",
    "PROC SORT DATA = CARS;\n",
    "    BY Type;\n",
    "RUN;\n",
    "\n",
    "PROC SORT DATA = CARS;\n",
    "    BY Make Type;\n",
    "RUN;"
   ]
  },
  {
   "cell_type": "markdown",
   "id": "5258481c-f407-47c9-800d-a7ef965efc80",
   "metadata": {},
   "source": [
    "* We can change add some options to achieve more functions in the sort. For example, if I want to keep a copy of the original data but put the sorted data in another file, we can use the OUT = option. "
   ]
  },
  {
   "cell_type": "code",
   "execution_count": null,
   "id": "93b02f93-4e41-4e45-b3a9-f783c1e01daa",
   "metadata": {},
   "outputs": [],
   "source": [
    "PROC SORT DATA = SASHELP.CARS OUT = CARS_SORTED;\n",
    "    BY Make Type;\n",
    "RUN;"
   ]
  },
  {
   "cell_type": "markdown",
   "id": "95546caf-cca7-4470-957d-b4f0677adc5a",
   "metadata": {},
   "source": [
    "## Subsetting Data using ***DATA SET OPTION***"
   ]
  },
  {
   "cell_type": "markdown",
   "id": "b982a85f-ec52-45f1-bcc4-e27c2b94b533",
   "metadata": {},
   "source": [
    "* We can subset the data using ***data set options***.  \n",
    "    * ***(OBS = 10)*** is also a data set option. \n",
    "* Let's say we want to sort and output the DriveTrain = All and MSRP less than $30,000."
   ]
  },
  {
   "cell_type": "code",
   "execution_count": null,
   "id": "f69fefcf-7412-460e-aaa2-ec1eb720344e",
   "metadata": {},
   "outputs": [],
   "source": [
    "PROC SORT DATA = SASHELP.CARS (where = (DriveTrain = \"All\" and MSRP <= 30000)) OUT = CARS_SORTED;\n",
    "    BY Make Type;\n",
    "RUN;"
   ]
  },
  {
   "cell_type": "markdown",
   "id": "fc9db057-0615-4532-ad03-9f255ff38302",
   "metadata": {},
   "source": [
    "* We can also subset columns using keep or drop. Let's say we want to only keep these four columns: Make Model MSRP Origin"
   ]
  },
  {
   "cell_type": "code",
   "execution_count": null,
   "id": "91b5e9b1-8295-4895-8a87-53a3b89a9e77",
   "metadata": {},
   "outputs": [],
   "source": [
    "PROC SORT DATA = SASHELP.CARS (where = (DriveTrain = \"All\" and MSRP <= 30000)) OUT = CARS_SORTED (keep = Make Model MSRP Origin);\n",
    "    BY Make Type;\n",
    "RUN;"
   ]
  },
  {
   "cell_type": "markdown",
   "id": "c4e53a9f-3f2b-4ae5-8dce-e142eaf58dd7",
   "metadata": {},
   "source": [
    "* Why do I put where = and keep = behind different data sets? Let's put them behind one data and see what happens. "
   ]
  },
  {
   "cell_type": "code",
   "execution_count": null,
   "id": "77ab8c8b-3e02-4d10-b8e9-f6de6966260f",
   "metadata": {},
   "outputs": [],
   "source": [
    "PROC SORT DATA = SASHELP.CARS (keep = Make Model MSRP Origin where = (DriveTrain = \"All\" and MSRP <= 30000)) OUT = CARS_SORTED;\n",
    "    BY Make Type;\n",
    "RUN;"
   ]
  },
  {
   "cell_type": "markdown",
   "id": "fa17dc5a-1745-41dd-9c2d-55f604363fc4",
   "metadata": {},
   "source": [
    "* Can you think about what the reported error means? \n",
    "* Why do you think the error is reported? "
   ]
  },
  {
   "cell_type": "markdown",
   "id": "dbb46ec4-e450-4ad5-97a1-0c4faca58140",
   "metadata": {},
   "source": [
    "* What if we try these?"
   ]
  },
  {
   "cell_type": "code",
   "execution_count": null,
   "id": "c5859c10-117a-48a4-9a61-71ed03f62829",
   "metadata": {},
   "outputs": [],
   "source": [
    "PROC SORT DATA = SASHELP.CARS (where = (DriveTrain = \"All\" and MSRP <= 30000) keep = Make Model MSRP Origin) OUT = CARS_SORTED;\n",
    "    BY Make Type;\n",
    "RUN;"
   ]
  },
  {
   "cell_type": "code",
   "execution_count": null,
   "id": "ad19a26a-455a-435e-b1d7-9ae0b50d9c83",
   "metadata": {},
   "outputs": [],
   "source": [
    "PROC SORT DATA = SASHELP.CARS (keep = Make Model MSRP Origin) OUT = CARS_SORTED;\n",
    "    BY Make Type;\n",
    "    where DriveTrain = \"All\" and MSRP <= 30000;\n",
    "RUN;"
   ]
  },
  {
   "cell_type": "markdown",
   "id": "598d0221-e10a-4d35-9bae-da7e7ec63a17",
   "metadata": {},
   "source": [
    "* As you can see, ***DATA SET OPTIONS*** can be pretty versatile.\n",
    "* It will be come very handy really soon. With data set options, we can make the code shorter and are less likely to make mistakes. "
   ]
  },
  {
   "cell_type": "markdown",
   "id": "a3012afe-3179-4b5f-8770-0f0643806e6b",
   "metadata": {},
   "source": [
    "* Sorting data can be slow, but it is crucial to a lot of operations in SAS. For example, let's print CARS_SORTED as an output. When you run the following code, you should be able to see the output window. "
   ]
  },
  {
   "cell_type": "code",
   "execution_count": null,
   "id": "eeb3bdf6-b1a0-4237-bbbf-025b7a7168cb",
   "metadata": {},
   "outputs": [],
   "source": [
    "PROC SORT DATA = SASHELP.CARS (where = (DriveTrain = \"All\" and MSRP <= 30000)) OUT = CARS_SORTED (keep = Make Model MSRP Origin);\n",
    "    BY Make Type;\n",
    "RUN;\n",
    "\n",
    "PROC PRINT DATA = CARS_SORTED;\n",
    "RUN;"
   ]
  },
  {
   "cell_type": "markdown",
   "id": "48992b77-7f58-4491-b281-62931b7a710a",
   "metadata": {},
   "source": [
    "* Now, I want to print the resulting data and group by each origin of the car. What can we do? \n",
    "* We can use the BY statement in PROC PRINT. BY statement tells the PROC to process things by group. \n",
    "* To use the BY statement, the data must be sorted by the group variable. Try the following. "
   ]
  },
  {
   "cell_type": "code",
   "execution_count": null,
   "id": "2773293c-cd56-452a-aba0-c04eb1bad008",
   "metadata": {},
   "outputs": [],
   "source": [
    "PROC SORT DATA = SASHELP.CARS (where = (DriveTrain = \"All\" and MSRP <= 30000)) OUT = CARS_SORTED (keep = Make Model MSRP Origin);\n",
    "    BY Make Type;\n",
    "RUN;\n",
    "\n",
    "PROC PRINT DATA = CARS_SORTED;\n",
    "    BY Origin; /* <--- The BY statement */\n",
    "RUN;"
   ]
  },
  {
   "cell_type": "markdown",
   "id": "9db69ff1-32b1-46c6-88fc-219bb9ae8598",
   "metadata": {},
   "source": [
    "* You should see an error saying the data is not sorted. How can we address this issue?\n",
    "* So let's sort it properly and the rerun. Try to do it yourself before you look at the code. "
   ]
  },
  {
   "cell_type": "code",
   "execution_count": null,
   "id": "26d44408-4eac-4b7c-bc9b-3d0b1996ade2",
   "metadata": {},
   "outputs": [],
   "source": [
    "PROC SORT DATA = SASHELP.CARS (where = (DriveTrain = \"All\" and MSRP <= 30000)) OUT = CARS_SORTED (keep = Make Model MSRP Origin);\n",
    "    BY Origin;\n",
    "RUN;\n",
    "\n",
    "PROC PRINT DATA = CARS_SORTED;\n",
    "    BY Origin;\n",
    "RUN;"
   ]
  },
  {
   "cell_type": "markdown",
   "id": "78bb14c2-5c19-482a-8a9b-7f2d28a2b80e",
   "metadata": {},
   "source": [
    "## Merge Data"
   ]
  },
  {
   "cell_type": "markdown",
   "id": "0d690656-b806-4741-8cc7-4a999e20f213",
   "metadata": {},
   "source": [
    "* There are two major ways to merge data - DATA step or PROC SQL.\n",
    "    * You don't need anything else unless when you have to handle large data. "
   ]
  },
  {
   "cell_type": "markdown",
   "id": "fb74509f-2486-4481-a0fc-ed2ed6ea7847",
   "metadata": {},
   "source": [
    "### Merge Data using DATA step"
   ]
  },
  {
   "cell_type": "markdown",
   "id": "4c9bfab2-eccd-40b7-8a03-492f3510262b",
   "metadata": {},
   "source": [
    "#### Base Example"
   ]
  },
  {
   "cell_type": "markdown",
   "id": "4bc1bd49-54b4-4067-9126-015a397ed758",
   "metadata": {},
   "source": [
    "* Load the data"
   ]
  },
  {
   "cell_type": "code",
   "execution_count": null,
   "id": "5bf6408e-0c6a-4a8e-a218-1ea238147118",
   "metadata": {},
   "outputs": [],
   "source": [
    "FILENAME test temp; /* <-- I put the data on github. This little block saves you from downloading the data and uploading the data to SAS ODA */\n",
    "proc http url='https://github.com/xieyutongcn/Statistical_Programming/raw/e89edba9a803dc61f62893f8a6c7d8c8e6a553eb/03/Data_To_Merge.xlsx' method=\"GET\" out=test;\n",
    "run;\n",
    "\n",
    "/* The code below imports each sheet */\n",
    "proc import file=test dbms=xlsx out=USA_CARS replace;\n",
    "getnames=yes;\n",
    "sheet=\"USA_Cars\";\n",
    "run;\n",
    "\n",
    "proc import file=test dbms=xlsx out=Gernam_CARS replace;\n",
    "getnames=yes;\n",
    "sheet=\"German_Cars\";\n",
    "run;\n",
    "\n",
    "proc import file=test dbms=xlsx out=Japan_CARS replace;\n",
    "getnames=yes;\n",
    "sheet=\"Japan_Cars\";\n",
    "run;\n",
    "\n",
    "FILENAME test temp;\n",
    "proc http url='https://github.com/xieyutongcn/Statistical_Programming/raw/main/03/Cars.csv' method=\"GET\" out=test;\n",
    "run;\n",
    "\n",
    "proc import file=test dbms=csv out=CARS replace;\n",
    "getnames=yes;\n",
    "run;\n"
   ]
  },
  {
   "cell_type": "markdown",
   "id": "5d120196-256b-4ed1-80b5-c4dd2421b89a",
   "metadata": {},
   "source": [
    "* Take a look at each data.\n",
    "    * What are the identifying variables?\n",
    "    * What information does each data set contains?\n",
    "    * What are the overlapping columns? What are the unique columns? "
   ]
  },
  {
   "cell_type": "markdown",
   "id": "980122a6-cb6a-4f4a-a1f0-a9875acdbb14",
   "metadata": {},
   "source": [
    "* Let's merge Cars with USA_Cars. "
   ]
  },
  {
   "cell_type": "code",
   "execution_count": null,
   "id": "868a429e-4f55-4f88-a9bc-9d1b77ded195",
   "metadata": {},
   "outputs": [],
   "source": [
    "DATA NEW;\n",
    "    MERGE Cars USA_Cars;\n",
    "    BY ID;\n",
    "RUN;"
   ]
  },
  {
   "cell_type": "markdown",
   "id": "0c4a5216-909b-4c4d-9a29-79e7ef1fb72c",
   "metadata": {},
   "source": [
    "<center><font size=\"+2\">Anything wrong? What do we need to do before using a BY?</font></center>\n",
    "\n",
    "<center><font size=\"+2\">You are right! <b>SORT!</b></font></center>"
   ]
  },
  {
   "cell_type": "code",
   "execution_count": null,
   "id": "d32945ef-80bf-4bce-bcfe-0b9c43e4d9fb",
   "metadata": {},
   "outputs": [],
   "source": [
    "PROC SORT DATA = Cars;\n",
    "    BY ID;\n",
    "RUN;\n",
    "\n",
    "PROC SORT DATA = USA_Cars;\n",
    "    BY ID;\n",
    "RUN;\n",
    "\n",
    "DATA NEW;\n",
    "    MERGE Cars USA_Cars;\n",
    "    BY ID;\n",
    "RUN;"
   ]
  },
  {
   "cell_type": "markdown",
   "id": "d949ec0a-3037-4012-b2f6-6e25e55805f1",
   "metadata": {},
   "source": [
    "* There are a few possibilities for the target data set: \n",
    "    * Keep the observations that appear in both data (***inner join***)\n",
    "    * Keep all the observations that appear in one of the data sets (***left or right join***)\n",
    "    * Keep all observations that appear in both data sets (***full join***)\n",
    "    * Keep all observations from one data set that do not also appear in the other (***exclusion***)\n",
    "* What join was the data we just created? "
   ]
  },
  {
   "cell_type": "markdown",
   "id": "732ba479-0af0-496c-b63a-9fe0732ac180",
   "metadata": {},
   "source": [
    "#### Data set option ***in =***"
   ]
  },
  {
   "cell_type": "markdown",
   "id": "e7ddd979-c9f7-435a-b0e4-7a719712471a",
   "metadata": {},
   "source": [
    "* How do we achieve these different joins? \n",
    "    * We just need to use a data set option **in =** "
   ]
  },
  {
   "cell_type": "code",
   "execution_count": null,
   "id": "e89d539a-aa1f-40b0-8779-c6351370c376",
   "metadata": {},
   "outputs": [],
   "source": [
    "DATA NEW;\n",
    "    MERGE Data1 (in = In1) Data2 (in = In2);\n",
    "    BY ID;\n",
    "    In1_explicit = In1;\n",
    "    In2_explicit = In2;\n",
    "RUN;"
   ]
  },
  {
   "cell_type": "markdown",
   "id": "6b5f306d-47b2-414a-87a6-c8df7be459f1",
   "metadata": {},
   "source": [
    "* Let's see the data. \n",
    "    * The **in =** option creates two implict variables **In1** and **In2**.\n",
    "        * These are Booleans, which means they are either TRUE of FALSE. \n",
    "    * We use **In1_explicit** and **In2_explicit** to create two columns to show **In1** and **In2**.\n",
    "    * They mark whether an observation is found from the **Data1** and **Data2**.\n",
    "* So to achieve inner, left, right, full or exclusion join, we need to use these two variables. "
   ]
  },
  {
   "cell_type": "markdown",
   "id": "3f8acddb-399d-4301-8f3a-bd05644bfe6b",
   "metadata": {},
   "source": [
    "#### Different Merges with Data Step and ***in =*** Option"
   ]
  },
  {
   "cell_type": "code",
   "execution_count": null,
   "id": "b728a429-9f48-4142-8d20-aaff5d4d2b2a",
   "metadata": {},
   "outputs": [],
   "source": [
    "/* Left Join */ \n",
    "DATA NEW;\n",
    "    MERGE Data1 (in = In1) Data2 (in = In2);\n",
    "    BY ID;\n",
    "    if In1;\n",
    "RUN;"
   ]
  },
  {
   "cell_type": "code",
   "execution_count": null,
   "id": "ecab5ef5-a847-4fe6-921f-131975aa2767",
   "metadata": {},
   "outputs": [],
   "source": [
    "/* Right Join */ \n",
    "DATA NEW;\n",
    "    MERGE Data1 (in = In1) Data2 (in = In2);\n",
    "    BY ID;\n",
    "    if In2;\n",
    "RUN;"
   ]
  },
  {
   "cell_type": "code",
   "execution_count": null,
   "id": "9f24a77a-1507-4cba-a3d2-57124d34a673",
   "metadata": {},
   "outputs": [],
   "source": [
    "/* Intersection (Inner Join) */ \n",
    "DATA NEW;\n",
    "    MERGE Data1 (in = In1) Data2 (in = In2);\n",
    "    BY ID;\n",
    "    if In1 and In2;\n",
    "RUN;"
   ]
  },
  {
   "cell_type": "code",
   "execution_count": null,
   "id": "cb7dbbe1-7dde-4297-9055-c1c5caf6a3a7",
   "metadata": {},
   "outputs": [],
   "source": [
    "/* Exclusion */ \n",
    "DATA NEW;\n",
    "    MERGE Data1 (in = In1) Data2 (in = In2);\n",
    "    BY ID;\n",
    "    if In1 and not In2;\n",
    "RUN;"
   ]
  },
  {
   "cell_type": "markdown",
   "id": "a440ec19-944a-4dec-b7b2-bc0d2521e755",
   "metadata": {},
   "source": [
    "#### Let's Try This"
   ]
  },
  {
   "cell_type": "markdown",
   "id": "f417cae2-acc0-4921-a5ef-81785aa289c9",
   "metadata": {},
   "source": [
    "* Let's create a data that gives me all the information of German cars. "
   ]
  },
  {
   "cell_type": "markdown",
   "id": "fe3de369-af28-4cf6-a063-d8c188cb0cd8",
   "metadata": {},
   "source": [
    "#### Calculate a Summary and Merge Back"
   ]
  },
  {
   "cell_type": "markdown",
   "id": "b81855a7-3823-48b0-9e33-cae0c1b60b5e",
   "metadata": {},
   "source": [
    "In some scenarios, we need to add the average of a column to the data. For example, we want to select the data above or below the average. Then, need to calculate the average first using PROC MEANS and then merge the data with the original data. "
   ]
  },
  {
   "cell_type": "markdown",
   "id": "3ce7b853-62b0-406e-8247-c26f604629a7",
   "metadata": {},
   "source": [
    "PROC MEANS is another important PROC. It can calculate statistics of numeric variables, such as average (mean), standard deviation, variance, minimum, maximum and so on. "
   ]
  },
  {
   "cell_type": "code",
   "execution_count": null,
   "id": "d08bdf4e-1fa5-4dd1-836b-4680893dde4d",
   "metadata": {},
   "outputs": [],
   "source": [
    "PROC MEANS DATA = SASHELP.CARS;\n",
    "    VAR MSRP;\n",
    "RUN;"
   ]
  },
  {
   "cell_type": "markdown",
   "id": "edc7da38-e369-4cbf-9c32-5098db883167",
   "metadata": {},
   "source": [
    "By default, this will create an HTML output. However, we want a table so that we can merge back. Fortunately, PROC MEANS offers such an option. "
   ]
  },
  {
   "cell_type": "code",
   "execution_count": null,
   "id": "473148da-ce95-48a0-b5be-3b053a45eaf4",
   "metadata": {},
   "outputs": [],
   "source": [
    "PROC MEANS DATA = SASHELP.CARS;\n",
    "    VAR MSRP;\n",
    "    OUTPUT OUT = AVERAGE MEAN = / AUTONAME;\n",
    "RUN;\n",
    "\n",
    "/* or */\n",
    "\n",
    "PROC MEANS DATA = SASHELP.CARS;\n",
    "    OUTPUT OUT = AVERAGE MEAN(MSRP) = / AUTONAME;\n",
    "RUN;"
   ]
  },
  {
   "cell_type": "markdown",
   "id": "1099401d-3504-4815-93d0-5a729cc72f69",
   "metadata": {},
   "source": [
    "Both will create the same data and print the output. We don't really need it to print the output because we are trying to get the average. We can specify the **NOPRINT** option. "
   ]
  },
  {
   "cell_type": "code",
   "execution_count": null,
   "id": "4a38a1ea-df88-43d6-ac75-6db9127b485c",
   "metadata": {},
   "outputs": [],
   "source": [
    "PROC MEANS DATA = SASHELP.CARS NOPRINT;\n",
    "    OUTPUT OUT = AVERAGE MEAN(MSRP) = / AUTONAME;\n",
    "RUN;"
   ]
  },
  {
   "cell_type": "markdown",
   "id": "09aaa465-bfb3-4d19-90f3-7997cf2c7af7",
   "metadata": {},
   "source": [
    "Then merge back. "
   ]
  },
  {
   "cell_type": "code",
   "execution_count": null,
   "id": "5bce8289-c164-452c-8d19-24c713e013ff",
   "metadata": {},
   "outputs": [],
   "source": [
    "DATA NEW;\n",
    "    IF _N_ = 1 THEN SET AVERAGE;\n",
    "    SET SASHELP.CARS;\n",
    "RUN;"
   ]
  },
  {
   "cell_type": "markdown",
   "id": "2f7f5a8f-c9c8-416d-b875-1daf8019c6ca",
   "metadata": {},
   "source": [
    "In this DATA step, SASHELP.CARS is the data set with more than one observation (the original data) and AVERAGE is the data set with a single observation (the average). SAS reads SASHELP.CARS in a normal SETvstatement, simply reading the observations in a straightforward way. SAS also reads AVERAGE with a SET statement but only in the first iteration of the DATA step—when the SAS automatic variable _N_ equals 1. (More on this later.) SAS then retains the values of variables from AVERAGE for all observations in new-data-set.\n",
    "\n",
    "This works because variables that are read with a SET statement are automatically retained. Normally, you don't notice this because the retained values are overwritten by the next observation. But in this case the variables from summary-data-set are read once at the first iteration of the DATA step and then retained for all other observations. The effect is similar to a RETAIN statement (more on this later). This technique can be used any time you\n",
    "want to combine a single observation with many observations, without a common variable."
   ]
  },
  {
   "cell_type": "markdown",
   "id": "d5d9cb88-084f-430d-847f-a5d723a17cc0",
   "metadata": {},
   "source": [
    "### PROC SQL and Merge Data using PROC SQL"
   ]
  },
  {
   "cell_type": "markdown",
   "id": "987d432d-78a2-4153-9e28-d76e2f9a0d35",
   "metadata": {},
   "source": [
    "#### Brief Intro of PROC SQL"
   ]
  },
  {
   "cell_type": "markdown",
   "id": "17337ddc-d723-402e-bb3a-bcc2f3b16fc1",
   "metadata": {},
   "source": [
    "* PROC SQL copies the SQL language to SAS.\n",
    "    * Consider PROC SQL as a SAS version of the SQL.\n",
    "        * SQL is a power database management language.\n",
    "* A typical PROC SQL looks like this. "
   ]
  },
  {
   "cell_type": "code",
   "execution_count": null,
   "id": "36bd3d93-cfd4-4f21-9bf9-fb554fcf9479",
   "metadata": {},
   "outputs": [],
   "source": [
    "PROC SQL;\n",
    "    create table new_table as \n",
    "    select distinct a.*, b.*\n",
    "    from old_table1 as a, old_table as b\n",
    "    where a.id = b.id;\n",
    "QUIT;"
   ]
  },
  {
   "cell_type": "markdown",
   "id": "b7d60481-4c6f-4cc2-a8f8-bfcb5db74c5e",
   "metadata": {},
   "source": [
    "* Note that even though this is a long statement, I only have one **;** betwee **PROC SQL;** and **QUIT;**.\n",
    "    * What's between is very similar to the SQL language. \n",
    "* Also note that this statement ends with **QUIT;** not **RUN;**"
   ]
  },
  {
   "cell_type": "markdown",
   "id": "307b5d20-72ee-49dd-aab9-089c14ba2478",
   "metadata": {},
   "source": [
    "We can use PROC SQL to subset data, modify data, create new variables or even calculate complex statistical values. The following code will \n",
    "1. create a data set called **CARS_SORTED** from SASHELP.CARS,\n",
    "2. sort data by Origin\n",
    "3. Keep only Make Model MSRP Origin\n",
    "4. Keep only DriveTrain = All and MSRP no more than 30000\n",
    "5. Calculate the average MSRP for each manufacturer (Make)"
   ]
  },
  {
   "cell_type": "code",
   "execution_count": null,
   "id": "1a4f0b8e-a37d-4426-a4f2-16742a72327f",
   "metadata": {},
   "outputs": [],
   "source": [
    "PROC SQL;\n",
    "    create table CARS_SORTED as \n",
    "    select distinct Make, Model, MSRP, Origin, mean(MSRP) as Average_MSRP\n",
    "    from SASHELP.CARS\n",
    "    where DriveTrain = \"All\" and MSRP <= 30000\n",
    "    group by Make\n",
    "    order by Origin;\n",
    "QUIT;"
   ]
  },
  {
   "cell_type": "markdown",
   "id": "2171de10-9c31-40ca-9355-2d098bb784d5",
   "metadata": {},
   "source": [
    "As you can see, SQL is very powerful. You can even put multiple SQL commands in one PROC SQL statement. The statements will execute in order. "
   ]
  },
  {
   "cell_type": "code",
   "execution_count": null,
   "id": "7f721aa7-d470-4499-a075-83805f590816",
   "metadata": {},
   "outputs": [],
   "source": [
    "PROC SQL;\n",
    "\n",
    "    create table CARS_SORTED as \n",
    "    select distinct Make, Model, MSRP, Origin, mean(MSRP) as Average_MSRP\n",
    "    from SASHELP.CARS\n",
    "    where DriveTrain = \"All\" and MSRP <= 30000\n",
    "    group by Make\n",
    "    order by Origin;\n",
    "\n",
    "    create table CARS_SORTED2 as \n",
    "    select distinct Make, Model, MSRP, Origin, mean(MSRP) as Average_MSRP\n",
    "    from SASHELP.CARS\n",
    "    where DriveTrain = \"All\" and MSRP > 30000\n",
    "    group by Make\n",
    "    order by Origin;\n",
    "\n",
    "QUIT;"
   ]
  },
  {
   "cell_type": "markdown",
   "id": "db5ec69a-afd9-4390-b84d-516c07b6a65f",
   "metadata": {},
   "source": [
    "#### Inner Join"
   ]
  },
  {
   "cell_type": "code",
   "execution_count": null,
   "id": "a75f1b15-6686-4b3f-b24f-421fe9788c71",
   "metadata": {},
   "outputs": [],
   "source": [
    "PROC SQL;\n",
    "Create table dummy as\n",
    "Select * from A Inner Join B\n",
    "on a.ID = b.id;\n",
    "Quit;\n",
    "\n",
    "PROC SQL;\n",
    "Create table dummy as\n",
    "Select * from A Join B\n",
    "on a.ID = b.id;\n",
    "Quit;\n",
    "\n",
    "PROC SQL;\n",
    "Create table dummy as\n",
    "Select * from A, B\n",
    "where a.ID = b.id;\n",
    "Quit;"
   ]
  },
  {
   "cell_type": "markdown",
   "id": "c7068a30-bc9f-4e6e-868c-3fb897af1393",
   "metadata": {},
   "source": [
    "#### Left Join"
   ]
  },
  {
   "cell_type": "code",
   "execution_count": null,
   "id": "7f847b86-3be8-46ac-94df-53d4cc8e97d0",
   "metadata": {},
   "outputs": [],
   "source": [
    "PROC SQL;\n",
    "Create table dummy as\n",
    "Select * from A left Join B\n",
    "on a.ID = b.id;\n",
    "Quit;"
   ]
  },
  {
   "cell_type": "markdown",
   "id": "31053eb1-869a-43d2-a39d-59ab95ce5064",
   "metadata": {},
   "source": [
    "#### Right Join"
   ]
  },
  {
   "cell_type": "code",
   "execution_count": null,
   "id": "ff48b0a6-c2da-4f94-a6e1-ffb029d45e2a",
   "metadata": {},
   "outputs": [],
   "source": [
    "PROC SQL;\n",
    "Create table dummy as\n",
    "Select * from A right Join B\n",
    "on a.ID = b.id;\n",
    "Quit;"
   ]
  },
  {
   "cell_type": "markdown",
   "id": "130c31ac-cdf0-46b5-b04b-5f01c12bdaef",
   "metadata": {},
   "source": [
    "#### Full Join"
   ]
  },
  {
   "cell_type": "code",
   "execution_count": null,
   "id": "ec5900a0-eebc-464c-a353-8dae13ff202f",
   "metadata": {},
   "outputs": [],
   "source": [
    "PROC SQL;\n",
    "Create table dummy as\n",
    "Select * from A full Join B\n",
    "on a.ID = b.id;\n",
    "Quit;"
   ]
  },
  {
   "cell_type": "markdown",
   "id": "8dae7e03-c9d3-4428-af45-61d3c2b2f04e",
   "metadata": {},
   "source": [
    "#### Cross Join"
   ]
  },
  {
   "cell_type": "code",
   "execution_count": null,
   "id": "26f610a4-731f-4888-8f40-a51273b4d2e4",
   "metadata": {},
   "outputs": [],
   "source": [
    "PROC SQL;\n",
    "Create table dummy as\n",
    "Select * from A cross Join B;\n",
    "Quit;"
   ]
  },
  {
   "cell_type": "markdown",
   "id": "fd842695-2fe8-43e4-803b-39f89288f965",
   "metadata": {},
   "source": [
    "More can be done. Use this image as a reference. \n",
    "\n",
    "<img src=\"SQLJoins.png\">"
   ]
  },
  {
   "cell_type": "markdown",
   "id": "ae5f8437-4af4-4571-ab59-2ccfcf17f89e",
   "metadata": {},
   "source": [
    "This compares data step merge and SQL merge\n",
    "\n",
    "<img src=\"Merging1.jpg\">\n",
    "\n",
    "<img src=\"Merging2.jpg\">"
   ]
  },
  {
   "cell_type": "markdown",
   "id": "dd345bf0-2fce-4f41-9058-b8566b6f1c77",
   "metadata": {},
   "source": [
    "## Transpose Data"
   ]
  },
  {
   "cell_type": "markdown",
   "id": "75c37a5b-7d9f-416f-81f2-fce93e8254fb",
   "metadata": {},
   "source": [
    "## Transpose Data"
   ]
  },
  {
   "cell_type": "markdown",
   "id": "18f377b0-e359-45ee-b3f4-7c513d77bba7",
   "metadata": {},
   "source": [
    "## Transpose Data"
   ]
  },
  {
   "cell_type": "markdown",
   "id": "b5b1339b-524c-47fd-9d18-4ef24ca9a1da",
   "metadata": {},
   "source": [
    "## Transpose Data"
   ]
  },
  {
   "cell_type": "markdown",
   "id": "d2df0a99-2adf-4a83-b3f9-5fe6ea979af2",
   "metadata": {},
   "source": [
    "## Transpose Data"
   ]
  }
 ],
 "metadata": {
  "kernelspec": {
   "display_name": "SAS",
   "language": "sas",
   "name": "sas"
  },
  "language_info": {
   "codemirror_mode": "sas",
   "file_extension": ".sas",
   "mimetype": "text/x-sas",
   "name": "sas"
  }
 },
 "nbformat": 4,
 "nbformat_minor": 5
}
